{
  "nbformat": 4,
  "nbformat_minor": 0,
  "metadata": {
    "colab": {
      "name": "Projeto Final PySpark",
      "provenance": [],
      "collapsed_sections": []
    },
    "kernelspec": {
      "name": "python3",
      "display_name": "Python 3"
    },
    "language_info": {
      "name": "python"
    }
  },
  "cells": [
    {
      "cell_type": "markdown",
      "metadata": {
        "id": "l0oYdCfJFEOa"
      },
      "source": [
        "# Instalação do PySpark e da biblioteca necessária para conexão com a Google Cloud Platform:"
      ]
    },
    {
      "cell_type": "code",
      "metadata": {
        "id": "5fQkk34UuKiK"
      },
      "source": [
        "pip install gcsfs"
      ],
      "execution_count": null,
      "outputs": []
    },
    {
      "cell_type": "code",
      "metadata": {
        "id": "PmX6b1-KIaEQ"
      },
      "source": [
        "pip install pyspark"
      ],
      "execution_count": null,
      "outputs": []
    },
    {
      "cell_type": "markdown",
      "metadata": {
        "id": "D0xe2IGRFJ0i"
      },
      "source": [
        "# Importação das bibliotecas e funções necessárias para análise:\n",
        "\n",
        "*Obs.: Foi importada a biblioteca Pandas para fazer a atribuição posterior dos dados ao dataframe.*"
      ]
    },
    {
      "cell_type": "code",
      "metadata": {
        "id": "l3ZS4yvUJV2E"
      },
      "source": [
        "import pandas as pd\n",
        "from pyspark.sql import SparkSession\n",
        "import pyspark.sql.functions as F\n",
        "from pyspark.sql.window import Window\n",
        "from pyspark.sql.functions import monotonically_increasing_id\n",
        "import os\n",
        "from google.cloud import storage"
      ],
      "execution_count": 122,
      "outputs": []
    },
    {
      "cell_type": "markdown",
      "metadata": {
        "id": "Mw73VMF0fxUJ"
      },
      "source": [
        "# Inicia a conexão com a GCP:"
      ]
    },
    {
      "cell_type": "code",
      "metadata": {
        "id": "K2jxhWV6fw4v"
      },
      "source": [
        "serviceaccount = '/content/chave_acesso_edlaine'\n",
        "os.environ[\"GOOGLE_APPLICATION_CREDENTIALS\"] = serviceaccount"
      ],
      "execution_count": null,
      "outputs": []
    },
    {
      "cell_type": "markdown",
      "metadata": {
        "id": "FR9rZSjbFa9w"
      },
      "source": [
        "# Iniciar sessão Spark:"
      ]
    },
    {
      "cell_type": "code",
      "metadata": {
        "id": "nB9CsZWxJ7xL",
        "colab": {
          "base_uri": "https://localhost:8080/",
          "height": 222
        },
        "outputId": "d529457a-2a7f-4131-f763-87179eaaef60"
      },
      "source": [
        "spark = SparkSession.builder\\\n",
        "      .master('local')\\\n",
        "      .appName('ProjetoEngDaods')\\\n",
        "      .config('spark.ui.port','4050')\\\n",
        "      .getOrCreate()\n",
        "spark"
      ],
      "execution_count": null,
      "outputs": [
        {
          "output_type": "execute_result",
          "data": {
            "text/html": [
              "\n",
              "            <div>\n",
              "                <p><b>SparkSession - in-memory</b></p>\n",
              "                \n",
              "        <div>\n",
              "            <p><b>SparkContext</b></p>\n",
              "\n",
              "            <p><a href=\"http://986bf81f7f6f:4050\">Spark UI</a></p>\n",
              "\n",
              "            <dl>\n",
              "              <dt>Version</dt>\n",
              "                <dd><code>v3.2.0</code></dd>\n",
              "              <dt>Master</dt>\n",
              "                <dd><code>local</code></dd>\n",
              "              <dt>AppName</dt>\n",
              "                <dd><code>ProjetoEngDaods</code></dd>\n",
              "            </dl>\n",
              "        </div>\n",
              "        \n",
              "            </div>\n",
              "        "
            ],
            "text/plain": [
              "<pyspark.sql.session.SparkSession at 0x7fd438311bd0>"
            ]
          },
          "metadata": {},
          "execution_count": 3
        }
      ]
    },
    {
      "cell_type": "markdown",
      "metadata": {
        "id": "7iFfLNpzFtUd"
      },
      "source": [
        "# Atribui os dados do dataset ao dataframe que será trabalhado:"
      ]
    },
    {
      "cell_type": "code",
      "metadata": {
        "id": "J9kYFHFscSNK"
      },
      "source": [
        "dfspark = pd.read_csv('gs://projeto-final-grupo09/saida_dados/ProjetoFinalPandas02(csv)')\n",
        "df = spark.createDataFrame(dfspark)"
      ],
      "execution_count": 72,
      "outputs": []
    },
    {
      "cell_type": "markdown",
      "metadata": {
        "id": "h_SdVFnHGDb-"
      },
      "source": [
        "# Visualização do dataframe:"
      ]
    },
    {
      "cell_type": "code",
      "metadata": {
        "colab": {
          "base_uri": "https://localhost:8080/"
        },
        "id": "6ZRd1Rkh_STq",
        "outputId": "dd54156d-8dcd-4f08-84b5-c1cecb8125f5"
      },
      "source": [
        "df.show(10)"
      ],
      "execution_count": 76,
      "outputs": [
        {
          "output_type": "stream",
          "name": "stdout",
          "text": [
            "+----------+--------------------+----------+----------------+-------------+------+---------+---------------------+------------------+-------+-----------------+\n",
            "|Unnamed: 0|       identificacao| criado_em|tipo_propriedade|nome_do_local|estado|    preco|area_construcao_em_m2|      preco_por_m2|quartos|area_total_por_m2|\n",
            "+----------+--------------------+----------+----------------+-------------+------+---------+---------------------+------------------+-------+-----------------+\n",
            "|         0|47c47b29f4b5d901e...|2018-01-24|            casa|        Bahia| Bahia|577083.67|                135.0| 4296.296296296297|    2.0|              NaN|\n",
            "|         1|0916e4dea826443b2...|2018-01-22|            casa|        Bahia| Bahia|248742.97|                114.0|2192.9824561403507|    2.0|              NaN|\n",
            "|         2|e206166a672764f56...|2018-01-09|            loja|         Pará|  Pará|      NaN|                  NaN|               NaN|    NaN|              NaN|\n",
            "|         3|6986e2ddcb8c24d9a...|2018-01-09|     apartamento|         Pará|  Pará|650960.32|                  NaN|               NaN|    1.0|              NaN|\n",
            "|         4|a7de4dc532374b2c3...|2018-01-09|     apartamento|         Pará|  Pará|220325.02|                  NaN|               NaN|    1.0|              NaN|\n",
            "|         5|e37003e790accd231...|2017-09-05|            casa|        Amapá| Amapá|125882.81|                 95.0| 1368.421052631579|    NaN|            120.0|\n",
            "|         6|78664e248ec3e5038...|2017-08-30|            casa|        Ceará| Ceará|858324.85|                450.0| 1888.888888888889|    NaN|              NaN|\n",
            "|         7|88cf7471558753502...|2017-09-27|            casa|       Paraná|Paraná|290428.43|                  NaN|               NaN|    3.0|              NaN|\n",
            "|         8|763d3fc12045ec194...|2017-09-27|            casa|       Paraná|Paraná|400590.96|                  NaN|               NaN|    NaN|              NaN|\n",
            "|         9|1a7b284bbed0da8b5...|2017-09-27|            casa|       Paraná|Paraná|450664.83|                  NaN|               NaN|    3.0|              NaN|\n",
            "+----------+--------------------+----------+----------------+-------------+------+---------+---------------------+------------------+-------+-----------------+\n",
            "only showing top 10 rows\n",
            "\n"
          ]
        }
      ]
    },
    {
      "cell_type": "markdown",
      "metadata": {
        "id": "nihp-kTaGI7N"
      },
      "source": [
        "# Verifica se há diferença entre as colunas em questão e quantos são diferentes:"
      ]
    },
    {
      "cell_type": "code",
      "metadata": {
        "colab": {
          "base_uri": "https://localhost:8080/"
        },
        "id": "70n1uSS0AA9W",
        "outputId": "e3e3ce49-b531-4ac1-a06e-b00eb3332946"
      },
      "source": [
        "df.select('estado').filter(df.nome_do_local != df.estado).count()"
      ],
      "execution_count": 77,
      "outputs": [
        {
          "output_type": "execute_result",
          "data": {
            "text/plain": [
              "413290"
            ]
          },
          "metadata": {},
          "execution_count": 77
        }
      ]
    },
    {
      "cell_type": "markdown",
      "metadata": {
        "id": "1E1P-wzoGewW"
      },
      "source": [
        "# Verifica os valores iguais entre as colunas em questão:"
      ]
    },
    {
      "cell_type": "code",
      "metadata": {
        "colab": {
          "base_uri": "https://localhost:8080/"
        },
        "id": "yqJ87ZC7HpmP",
        "outputId": "0b704a0a-4ff8-4594-8df5-5afcbe864b5e"
      },
      "source": [
        "df.select('estado').filter(df.nome_do_local == df.estado).count()"
      ],
      "execution_count": 78,
      "outputs": [
        {
          "output_type": "execute_result",
          "data": {
            "text/plain": [
              "4394"
            ]
          },
          "metadata": {},
          "execution_count": 78
        }
      ]
    },
    {
      "cell_type": "markdown",
      "metadata": {
        "id": "4A238PLoGxwy"
      },
      "source": [
        "# Renomeia a coluna para melhor entendimento e dropa a \"antiga\" com visualização do resultado:"
      ]
    },
    {
      "cell_type": "code",
      "metadata": {
        "colab": {
          "base_uri": "https://localhost:8080/"
        },
        "id": "Obn1YToxHumw",
        "outputId": "b1fc8921-87d5-4423-f4f3-6c83bdb2b422"
      },
      "source": [
        "df = df.select('*',F.col('criado_em').alias('data_criacao')).drop('criado_em')\n",
        "df = df.select('*',F.col('nome_do_local').alias('local_imovel')).drop('nome_do_local')\n",
        "df = df.select('*',F.col('Unnamed: 0').alias('Index')).drop('Unnamed: 0')\n",
        "df = df.select('*',F.col('identificacao').alias('ID')).drop('identificacao')\n",
        "df = df.select('*',F.col('preco_por_m2').alias('preco_m2')).drop('preco_por_m2')\n",
        "df.show(10)"
      ],
      "execution_count": 79,
      "outputs": [
        {
          "output_type": "stream",
          "name": "stdout",
          "text": [
            "+----------------+------+---------+---------------------+-------+-----------------+------------+------------+-----+--------------------+------------------+\n",
            "|tipo_propriedade|estado|    preco|area_construcao_em_m2|quartos|area_total_por_m2|data_criacao|local_imovel|Index|                  ID|          preco_m2|\n",
            "+----------------+------+---------+---------------------+-------+-----------------+------------+------------+-----+--------------------+------------------+\n",
            "|            casa| Bahia|577083.67|                135.0|    2.0|              NaN|  2018-01-24|       Bahia|    0|47c47b29f4b5d901e...| 4296.296296296297|\n",
            "|            casa| Bahia|248742.97|                114.0|    2.0|              NaN|  2018-01-22|       Bahia|    1|0916e4dea826443b2...|2192.9824561403507|\n",
            "|            loja|  Pará|      NaN|                  NaN|    NaN|              NaN|  2018-01-09|        Pará|    2|e206166a672764f56...|               NaN|\n",
            "|     apartamento|  Pará|650960.32|                  NaN|    1.0|              NaN|  2018-01-09|        Pará|    3|6986e2ddcb8c24d9a...|               NaN|\n",
            "|     apartamento|  Pará|220325.02|                  NaN|    1.0|              NaN|  2018-01-09|        Pará|    4|a7de4dc532374b2c3...|               NaN|\n",
            "|            casa| Amapá|125882.81|                 95.0|    NaN|            120.0|  2017-09-05|       Amapá|    5|e37003e790accd231...| 1368.421052631579|\n",
            "|            casa| Ceará|858324.85|                450.0|    NaN|              NaN|  2017-08-30|       Ceará|    6|78664e248ec3e5038...| 1888.888888888889|\n",
            "|            casa|Paraná|290428.43|                  NaN|    3.0|              NaN|  2017-09-27|      Paraná|    7|88cf7471558753502...|               NaN|\n",
            "|            casa|Paraná|400590.96|                  NaN|    NaN|              NaN|  2017-09-27|      Paraná|    8|763d3fc12045ec194...|               NaN|\n",
            "|            casa|Paraná|450664.83|                  NaN|    3.0|              NaN|  2017-09-27|      Paraná|    9|1a7b284bbed0da8b5...|               NaN|\n",
            "+----------------+------+---------+---------------------+-------+-----------------+------------+------------+-----+--------------------+------------------+\n",
            "only showing top 10 rows\n",
            "\n"
          ]
        }
      ]
    },
    {
      "cell_type": "markdown",
      "metadata": {
        "id": "syMqlx58HsKb"
      },
      "source": [
        "# Visualização das ocorrências dos tipos de propriedades e seu número de ocorrências presentes no dataframe:\n",
        "\n"
      ]
    },
    {
      "cell_type": "code",
      "metadata": {
        "colab": {
          "base_uri": "https://localhost:8080/"
        },
        "id": "-J20xqFukyI5",
        "outputId": "22b38399-8f4c-4670-9af1-68c329170f11"
      },
      "source": [
        "df.groupBy('tipo_propriedade').count().show(10)"
      ],
      "execution_count": 81,
      "outputs": [
        {
          "output_type": "stream",
          "name": "stdout",
          "text": [
            "+----------------+------+\n",
            "|tipo_propriedade| count|\n",
            "+----------------+------+\n",
            "|     apartamento|273577|\n",
            "|            casa|135213|\n",
            "|            loja|  8894|\n",
            "+----------------+------+\n",
            "\n"
          ]
        }
      ]
    },
    {
      "cell_type": "markdown",
      "metadata": {
        "id": "EdIZIfnQIW99"
      },
      "source": [
        "# Número de ocorrências por cada estado em ordem decrescente:"
      ]
    },
    {
      "cell_type": "code",
      "metadata": {
        "colab": {
          "base_uri": "https://localhost:8080/"
        },
        "id": "t6BUAtuCnVJV",
        "outputId": "13696415-d468-4da2-b5ca-0cf44ee84d77"
      },
      "source": [
        "df.groupBy('estado').count().sort('count', ascending=False).show(25)"
      ],
      "execution_count": 82,
      "outputs": [
        {
          "output_type": "stream",
          "name": "stdout",
          "text": [
            "+-------------------+------+\n",
            "|             estado| count|\n",
            "+-------------------+------+\n",
            "|          São Paulo|277460|\n",
            "|  Rio Grande do Sul| 52112|\n",
            "|     Rio de Janeiro| 37227|\n",
            "|     Santa Catarina| 10954|\n",
            "|       Minas Gerais|  5962|\n",
            "|     Espírito Santo|  5768|\n",
            "|             Paraná|  5609|\n",
            "|            Paraíba|  4916|\n",
            "|              Ceará|  4724|\n",
            "|              Bahia|  3041|\n",
            "|Rio Grande do Norte|  2206|\n",
            "|         Pernambuco|  2127|\n",
            "|              Goiás|  1731|\n",
            "|          Tocantins|  1273|\n",
            "|   Distrito Federal|   730|\n",
            "|        Mato Grosso|   609|\n",
            "|            Alagoas|   418|\n",
            "|               Pará|   300|\n",
            "|           Amazonas|   197|\n",
            "|           Maranhão|   153|\n",
            "| Mato Grosso do Sul|    83|\n",
            "|           Rondônia|    44|\n",
            "|              Amapá|    22|\n",
            "|               Acre|    12|\n",
            "|              Piauí|     6|\n",
            "+-------------------+------+\n",
            "\n"
          ]
        }
      ]
    },
    {
      "cell_type": "markdown",
      "metadata": {
        "id": "PpZDXea6PGUz"
      },
      "source": [
        "# Visualização dos valores mínimos por estado:"
      ]
    },
    {
      "cell_type": "code",
      "metadata": {
        "colab": {
          "base_uri": "https://localhost:8080/"
        },
        "id": "VemAs9EoPGCD",
        "outputId": "0fed288d-9e76-4e9e-ca60-2ac86619b755"
      },
      "source": [
        "df.groupBy('estado').min('preco').sort('estado').show(25)"
      ],
      "execution_count": 88,
      "outputs": [
        {
          "output_type": "stream",
          "name": "stdout",
          "text": [
            "+-------------------+----------+\n",
            "|             estado|min(preco)|\n",
            "+-------------------+----------+\n",
            "|               Acre|  95140.34|\n",
            "|            Alagoas|  23225.24|\n",
            "|              Amapá|  58099.76|\n",
            "|           Amazonas|  60088.62|\n",
            "|              Bahia|  37311.44|\n",
            "|              Ceará|  38372.16|\n",
            "|   Distrito Federal|  30044.31|\n",
            "|     Espírito Santo|   50489.7|\n",
            "|              Goiás|  16212.63|\n",
            "|           Maranhão|  37054.66|\n",
            "|        Mato Grosso|   30293.8|\n",
            "| Mato Grosso do Sul|  58568.02|\n",
            "|       Minas Gerais|  16023.61|\n",
            "|             Paraná|  29944.15|\n",
            "|            Paraíba|  19158.25|\n",
            "|               Pará|  35051.69|\n",
            "|         Pernambuco|  35342.78|\n",
            "|              Piauí| 120177.28|\n",
            "|Rio Grande do Norte|  20029.53|\n",
            "|  Rio Grande do Sul|  18026.59|\n",
            "|     Rio de Janeiro|  23033.96|\n",
            "|           Rondônia|  96832.91|\n",
            "|     Santa Catarina|  60587.63|\n",
            "|          São Paulo|       0.0|\n",
            "|          Tocantins| 110152.49|\n",
            "+-------------------+----------+\n",
            "\n"
          ]
        }
      ]
    },
    {
      "cell_type": "markdown",
      "metadata": {
        "id": "v3nNvHRzMDFH"
      },
      "source": [
        "# Visualização do esquema do dataframe:"
      ]
    },
    {
      "cell_type": "code",
      "metadata": {
        "colab": {
          "base_uri": "https://localhost:8080/"
        },
        "id": "F3GQkofQHM6p",
        "outputId": "253fea84-57bc-4f97-dfc4-5cbd6dec030d"
      },
      "source": [
        "df.printSchema()"
      ],
      "execution_count": 83,
      "outputs": [
        {
          "output_type": "stream",
          "name": "stdout",
          "text": [
            "root\n",
            " |-- tipo_propriedade: string (nullable = true)\n",
            " |-- estado: string (nullable = true)\n",
            " |-- preco: double (nullable = true)\n",
            " |-- area_construcao_em_m2: double (nullable = true)\n",
            " |-- quartos: double (nullable = true)\n",
            " |-- area_total_por_m2: double (nullable = true)\n",
            " |-- data_criacao: string (nullable = true)\n",
            " |-- local_imovel: string (nullable = true)\n",
            " |-- Index: long (nullable = true)\n",
            " |-- ID: string (nullable = true)\n",
            " |-- preco_m2: double (nullable = true)\n",
            "\n"
          ]
        }
      ]
    },
    {
      "cell_type": "code",
      "metadata": {
        "colab": {
          "base_uri": "https://localhost:8080/"
        },
        "id": "hhSQROZlZbfn",
        "outputId": "22b958ed-5a5d-4fa0-bd4b-cc69e55ba09d"
      },
      "source": [
        "df.show()"
      ],
      "execution_count": 125,
      "outputs": [
        {
          "output_type": "stream",
          "name": "stdout",
          "text": [
            "+----------------+----------+-------------+---------------------+-------+-----------------+------------+------------+-----+--------------------+------------------+\n",
            "|tipo_propriedade|    estado|        preco|area_construcao_em_m2|quartos|area_total_por_m2|data_criacao|local_imovel|Index|                  ID|          preco_m2|\n",
            "+----------------+----------+-------------+---------------------+-------+-----------------+------------+------------+-----+--------------------+------------------+\n",
            "|            casa|     Bahia|    577083.67|                135.0|    2.0|              NaN|  2018-01-24|       Bahia|    0|47c47b29f4b5d901e...| 4296.296296296297|\n",
            "|            casa|     Bahia|    248742.97|                114.0|    2.0|              NaN|  2018-01-22|       Bahia|    1|0916e4dea826443b2...|2192.9824561403507|\n",
            "|            loja|      Pará|          NaN|                  NaN|    NaN|              NaN|  2018-01-09|        Pará|    2|e206166a672764f56...|               NaN|\n",
            "|     apartamento|      Pará|    650960.32|                  NaN|    1.0|              NaN|  2018-01-09|        Pará|    3|6986e2ddcb8c24d9a...|               NaN|\n",
            "|     apartamento|      Pará|    220325.02|                  NaN|    1.0|              NaN|  2018-01-09|        Pará|    4|a7de4dc532374b2c3...|               NaN|\n",
            "|            casa|     Amapá|    125882.81|                 95.0|    NaN|            120.0|  2017-09-05|       Amapá|    5|e37003e790accd231...| 1368.421052631579|\n",
            "|            casa|     Ceará|    858324.85|                450.0|    NaN|              NaN|  2017-08-30|       Ceará|    6|78664e248ec3e5038...| 1888.888888888889|\n",
            "|            casa|    Paraná|    290428.43|                  NaN|    3.0|              NaN|  2017-09-27|      Paraná|    7|88cf7471558753502...|               NaN|\n",
            "|            casa|    Paraná|    400590.96|                  NaN|    NaN|              NaN|  2017-09-27|      Paraná|    8|763d3fc12045ec194...|               NaN|\n",
            "|            casa|    Paraná|    450664.83|                  NaN|    3.0|              NaN|  2017-09-27|      Paraná|    9|1a7b284bbed0da8b5...|               NaN|\n",
            "|            casa|    Paraná|    310457.99|                  NaN|    2.0|              NaN|  2017-09-27|      Paraná|   10|53ee9865b213104f4...|               NaN|\n",
            "|     apartamento|    Paraná|     110162.5|                  NaN|    1.0|              NaN|  2017-09-29|      Paraná|   11|b48a4ea635796017c...|               NaN|\n",
            "|            casa|    Paraná|    250369.34|                  NaN|    NaN|              NaN|  2017-09-29|      Paraná|   12|246235923df2bac0c...|               NaN|\n",
            "|     apartamento|  Amazonas|   2426582.02|                150.0|    NaN|              NaN|  2017-09-23|    Amazonas|   13|82fc681013b7df7fe...|           16000.0|\n",
            "|            casa|  Amazonas|   4519509.04|                160.0|    2.0|              NaN|  2017-09-23|    Amazonas|   14|e42e2bc45ff868731...|           27937.5|\n",
            "|            casa|  Amazonas|1.011075848E7|                760.0|    5.0|              NaN|  2017-09-23|    Amazonas|   15|cbf1598754b33be86...|13157.894736842105|\n",
            "|            casa|  Amazonas|1.516613772E7|                500.0|    4.0|              NaN|  2017-09-23|    Amazonas|   16|6be8bd0392dbb9bd5...|           30000.0|\n",
            "|            loja|  Maranhão|    150221.59|                  NaN|    NaN|              NaN|  2017-09-27|    Maranhão|   17|19c2ed3316f125c5e...|               NaN|\n",
            "|            casa|Pernambuco|     155229.0|                 57.0|    NaN|              NaN|  2017-08-10|  Pernambuco|   18|c038db6132d6c03f2...|2719.2982456140357|\n",
            "|            casa|Pernambuco|   1565180.64|                  NaN|    2.0|              NaN|  2017-08-30|  Pernambuco|   19|9efe47733bbd8018c...|               NaN|\n",
            "+----------------+----------+-------------+---------------------+-------+-----------------+------------+------------+-----+--------------------+------------------+\n",
            "only showing top 20 rows\n",
            "\n"
          ]
        }
      ]
    },
    {
      "cell_type": "markdown",
      "metadata": {
        "id": "UhnijuDhfARL"
      },
      "source": [
        "# Salva o dataframe tratado em formato CSV direto no Data Lake:"
      ]
    },
    {
      "cell_type": "code",
      "metadata": {
        "id": "aZXUDgnaY2fp"
      },
      "source": [
        "client = storage.Client()\n",
        "bucket = client.get_bucket('projeto-final-grupo09')\n",
        "     \n",
        "bucket.blob('saida_dados/ProjetoFinalPySpark02.csv').upload_from_string(df.toPandas().to_csv(index=False), 'text/csv')"
      ],
      "execution_count": 126,
      "outputs": []
    }
  ]
}