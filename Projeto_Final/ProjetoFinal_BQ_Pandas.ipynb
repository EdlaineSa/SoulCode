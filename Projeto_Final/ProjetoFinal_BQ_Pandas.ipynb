{
  "nbformat": 4,
  "nbformat_minor": 0,
  "metadata": {
    "interpreter": {
      "hash": "8d4df5900709c83baa4e915cf9bc67a3a22dd4dbb7eadf9e1a1939c20714bfbb"
    },
    "kernelspec": {
      "display_name": "Python 3.9.9 64-bit",
      "language": "python",
      "name": "python3"
    },
    "language_info": {
      "codemirror_mode": {
        "name": "ipython",
        "version": 3
      },
      "file_extension": ".py",
      "mimetype": "text/x-python",
      "name": "python",
      "nbconvert_exporter": "python",
      "pygments_lexer": "ipython3",
      "version": "3.9.9"
    },
    "orig_nbformat": 4,
    "colab": {
      "name": "pandas_dataset02.ipynb",
      "provenance": []
    }
  },
  "cells": [
    {
      "cell_type": "code",
      "metadata": {
        "id": "nQ6OTe2m09xG",
        "colab": {
          "base_uri": "https://localhost:8080/"
        },
        "outputId": "354a7896-a916-4eca-c163-dd2571fa77e9"
      },
      "source": [
        "pip install pandera"
      ],
      "execution_count": 57,
      "outputs": [
        {
          "output_type": "stream",
          "name": "stdout",
          "text": [
            "Requirement already satisfied: pandera in /usr/local/lib/python3.7/dist-packages (0.8.0)\n",
            "Requirement already satisfied: pandas>=1.0 in /usr/local/lib/python3.7/dist-packages (from pandera) (1.1.5)\n",
            "Requirement already satisfied: pyarrow in /usr/local/lib/python3.7/dist-packages (from pandera) (3.0.0)\n",
            "Requirement already satisfied: packaging>=20.0 in /usr/local/lib/python3.7/dist-packages (from pandera) (21.2)\n",
            "Requirement already satisfied: numpy>=1.9.0 in /usr/local/lib/python3.7/dist-packages (from pandera) (1.19.5)\n",
            "Requirement already satisfied: typing-extensions>=3.7.4.3 in /usr/local/lib/python3.7/dist-packages (from pandera) (3.10.0.2)\n",
            "Requirement already satisfied: pandas-stubs in /usr/local/lib/python3.7/dist-packages (from pandera) (1.2.0.38)\n",
            "Requirement already satisfied: wrapt in /usr/local/lib/python3.7/dist-packages (from pandera) (1.13.3)\n",
            "Requirement already satisfied: typing-inspect>=0.6.0 in /usr/local/lib/python3.7/dist-packages (from pandera) (0.7.1)\n",
            "Requirement already satisfied: pyparsing<3,>=2.0.2 in /usr/local/lib/python3.7/dist-packages (from packaging>=20.0->pandera) (2.4.7)\n",
            "Requirement already satisfied: pytz>=2017.2 in /usr/local/lib/python3.7/dist-packages (from pandas>=1.0->pandera) (2018.9)\n",
            "Requirement already satisfied: python-dateutil>=2.7.3 in /usr/local/lib/python3.7/dist-packages (from pandas>=1.0->pandera) (2.8.2)\n",
            "Requirement already satisfied: six>=1.5 in /usr/local/lib/python3.7/dist-packages (from python-dateutil>=2.7.3->pandas>=1.0->pandera) (1.15.0)\n",
            "Requirement already satisfied: mypy-extensions>=0.3.0 in /usr/local/lib/python3.7/dist-packages (from typing-inspect>=0.6.0->pandera) (0.4.3)\n"
          ]
        }
      ]
    },
    {
      "cell_type": "code",
      "metadata": {
        "id": "esOidl2W4tsm",
        "colab": {
          "base_uri": "https://localhost:8080/"
        },
        "outputId": "4bf2d472-9f60-4502-d434-06d6e81c47ab"
      },
      "source": [
        "pip install gcsfs"
      ],
      "execution_count": 58,
      "outputs": [
        {
          "output_type": "stream",
          "name": "stdout",
          "text": [
            "Requirement already satisfied: gcsfs in /usr/local/lib/python3.7/dist-packages (2021.11.0)\n",
            "Requirement already satisfied: decorator>4.1.2 in /usr/local/lib/python3.7/dist-packages (from gcsfs) (4.4.2)\n",
            "Requirement already satisfied: google-auth>=1.2 in /usr/local/lib/python3.7/dist-packages (from gcsfs) (1.35.0)\n",
            "Requirement already satisfied: google-auth-oauthlib in /usr/local/lib/python3.7/dist-packages (from gcsfs) (0.4.6)\n",
            "Requirement already satisfied: requests in /usr/local/lib/python3.7/dist-packages (from gcsfs) (2.23.0)\n",
            "Requirement already satisfied: fsspec==2021.11.0 in /usr/local/lib/python3.7/dist-packages (from gcsfs) (2021.11.0)\n",
            "Requirement already satisfied: aiohttp in /usr/local/lib/python3.7/dist-packages (from gcsfs) (3.8.1)\n",
            "Requirement already satisfied: google-cloud-storage in /usr/local/lib/python3.7/dist-packages (from gcsfs) (1.18.1)\n",
            "Requirement already satisfied: rsa<5,>=3.1.4 in /usr/local/lib/python3.7/dist-packages (from google-auth>=1.2->gcsfs) (4.7.2)\n",
            "Requirement already satisfied: six>=1.9.0 in /usr/local/lib/python3.7/dist-packages (from google-auth>=1.2->gcsfs) (1.15.0)\n",
            "Requirement already satisfied: pyasn1-modules>=0.2.1 in /usr/local/lib/python3.7/dist-packages (from google-auth>=1.2->gcsfs) (0.2.8)\n",
            "Requirement already satisfied: cachetools<5.0,>=2.0.0 in /usr/local/lib/python3.7/dist-packages (from google-auth>=1.2->gcsfs) (4.2.4)\n",
            "Requirement already satisfied: setuptools>=40.3.0 in /usr/local/lib/python3.7/dist-packages (from google-auth>=1.2->gcsfs) (57.4.0)\n",
            "Requirement already satisfied: pyasn1<0.5.0,>=0.4.6 in /usr/local/lib/python3.7/dist-packages (from pyasn1-modules>=0.2.1->google-auth>=1.2->gcsfs) (0.4.8)\n",
            "Requirement already satisfied: aiosignal>=1.1.2 in /usr/local/lib/python3.7/dist-packages (from aiohttp->gcsfs) (1.2.0)\n",
            "Requirement already satisfied: asynctest==0.13.0 in /usr/local/lib/python3.7/dist-packages (from aiohttp->gcsfs) (0.13.0)\n",
            "Requirement already satisfied: charset-normalizer<3.0,>=2.0 in /usr/local/lib/python3.7/dist-packages (from aiohttp->gcsfs) (2.0.7)\n",
            "Requirement already satisfied: attrs>=17.3.0 in /usr/local/lib/python3.7/dist-packages (from aiohttp->gcsfs) (21.2.0)\n",
            "Requirement already satisfied: async-timeout<5.0,>=4.0.0a3 in /usr/local/lib/python3.7/dist-packages (from aiohttp->gcsfs) (4.0.1)\n",
            "Requirement already satisfied: yarl<2.0,>=1.0 in /usr/local/lib/python3.7/dist-packages (from aiohttp->gcsfs) (1.7.2)\n",
            "Requirement already satisfied: typing-extensions>=3.7.4 in /usr/local/lib/python3.7/dist-packages (from aiohttp->gcsfs) (3.10.0.2)\n",
            "Requirement already satisfied: frozenlist>=1.1.1 in /usr/local/lib/python3.7/dist-packages (from aiohttp->gcsfs) (1.2.0)\n",
            "Requirement already satisfied: multidict<7.0,>=4.5 in /usr/local/lib/python3.7/dist-packages (from aiohttp->gcsfs) (5.2.0)\n",
            "Requirement already satisfied: idna>=2.0 in /usr/local/lib/python3.7/dist-packages (from yarl<2.0,>=1.0->aiohttp->gcsfs) (2.10)\n",
            "Requirement already satisfied: requests-oauthlib>=0.7.0 in /usr/local/lib/python3.7/dist-packages (from google-auth-oauthlib->gcsfs) (1.3.0)\n",
            "Requirement already satisfied: oauthlib>=3.0.0 in /usr/local/lib/python3.7/dist-packages (from requests-oauthlib>=0.7.0->google-auth-oauthlib->gcsfs) (3.1.1)\n",
            "Requirement already satisfied: chardet<4,>=3.0.2 in /usr/local/lib/python3.7/dist-packages (from requests->gcsfs) (3.0.4)\n",
            "Requirement already satisfied: urllib3!=1.25.0,!=1.25.1,<1.26,>=1.21.1 in /usr/local/lib/python3.7/dist-packages (from requests->gcsfs) (1.24.3)\n",
            "Requirement already satisfied: certifi>=2017.4.17 in /usr/local/lib/python3.7/dist-packages (from requests->gcsfs) (2021.10.8)\n",
            "Requirement already satisfied: google-cloud-core<2.0dev,>=1.0.0 in /usr/local/lib/python3.7/dist-packages (from google-cloud-storage->gcsfs) (1.0.3)\n",
            "Requirement already satisfied: google-resumable-media<0.5.0dev,>=0.3.1 in /usr/local/lib/python3.7/dist-packages (from google-cloud-storage->gcsfs) (0.4.1)\n",
            "Requirement already satisfied: google-api-core<2.0.0dev,>=1.14.0 in /usr/local/lib/python3.7/dist-packages (from google-cloud-core<2.0dev,>=1.0.0->google-cloud-storage->gcsfs) (1.26.3)\n",
            "Requirement already satisfied: googleapis-common-protos<2.0dev,>=1.6.0 in /usr/local/lib/python3.7/dist-packages (from google-api-core<2.0.0dev,>=1.14.0->google-cloud-core<2.0dev,>=1.0.0->google-cloud-storage->gcsfs) (1.53.0)\n",
            "Requirement already satisfied: pytz in /usr/local/lib/python3.7/dist-packages (from google-api-core<2.0.0dev,>=1.14.0->google-cloud-core<2.0dev,>=1.0.0->google-cloud-storage->gcsfs) (2018.9)\n",
            "Requirement already satisfied: protobuf>=3.12.0 in /usr/local/lib/python3.7/dist-packages (from google-api-core<2.0.0dev,>=1.14.0->google-cloud-core<2.0dev,>=1.0.0->google-cloud-storage->gcsfs) (3.17.3)\n",
            "Requirement already satisfied: packaging>=14.3 in /usr/local/lib/python3.7/dist-packages (from google-api-core<2.0.0dev,>=1.14.0->google-cloud-core<2.0dev,>=1.0.0->google-cloud-storage->gcsfs) (21.2)\n",
            "Requirement already satisfied: pyparsing<3,>=2.0.2 in /usr/local/lib/python3.7/dist-packages (from packaging>=14.3->google-api-core<2.0.0dev,>=1.14.0->google-cloud-core<2.0dev,>=1.0.0->google-cloud-storage->gcsfs) (2.4.7)\n"
          ]
        }
      ]
    },
    {
      "cell_type": "code",
      "metadata": {
        "id": "2awbCVj94zm9"
      },
      "source": [
        "import os\n",
        "import pandas as pd\n",
        "from google.cloud import storage"
      ],
      "execution_count": 59,
      "outputs": []
    },
    {
      "cell_type": "code",
      "metadata": {
        "id": "HhGuWhhA46es"
      },
      "source": [
        "serviceAccount = '/content/Chave Ingestao Apache.json'\n",
        "os.environ['GOOGLE_APPLICATION_CREDENTIALS'] = serviceAccount"
      ],
      "execution_count": 60,
      "outputs": []
    },
    {
      "cell_type": "code",
      "metadata": {
        "id": "XivUFYCt09xM"
      },
      "source": [
        "#leitura do arquivo em JSON\n",
        "df = pd.read_json(r'gs://projeto-final-grupo09/entrada_dados/Projeto Final', lines = True)\n",
        "df.head(1)"
      ],
      "execution_count": null,
      "outputs": []
    },
    {
      "cell_type": "code",
      "metadata": {
        "id": "b6lAleKtq1k4"
      },
      "source": [
        "filtro = df.property_type != 'PH'\n",
        "df2 = df[filtro]"
      ],
      "execution_count": 63,
      "outputs": []
    },
    {
      "cell_type": "code",
      "metadata": {
        "id": "3HB3IeE509xN"
      },
      "source": [
        "#Renomeando colunas\n",
        "df2.rename(columns={'id':'identificacao','created_on':'criado_em','operation':'operacao','property_type':'tipo_propriedade',\n",
        "                   'place_name':'nome_do_local','place_with_parent_names':'pais_local','country_name':'pais','state_name':'estado',\n",
        "                   'geonames_id':'g_nomes','lat_lon':'latitude_longitude','lat':'latitude','lon':'longitude','price':\n",
        "                   'preco_cheio','currency':'moeda','price_aprox_local_currency':'preco',\n",
        "                   'price_aprox_usd':'preco_aproximado_dolar','surface_total_in_m2':'area_total_por_m2',\n",
        "                   'surface_covered_in_m2':'area_construcao_em_m2','price_usd_per_m2':'preco_dolar_por_m2',\n",
        "                   'price_per_m2':'preco_por_m2','floor':'andar','rooms':'quartos','expenses':'despesas',\n",
        "                   'properati_url':'url_da_propriedade','description':'descricao', 'title':'titulo',\n",
        "                   'image_thumbnail':'miniatura_imagem'}, inplace = True)\n",
        "df2.head(2)\n"
      ],
      "execution_count": null,
      "outputs": []
    },
    {
      "cell_type": "code",
      "metadata": {
        "id": "i2JK6DEK09xO",
        "colab": {
          "base_uri": "https://localhost:8080/"
        },
        "outputId": "34ed0fc3-9a96-4989-ebc0-032a488d04fd"
      },
      "source": [
        "#chamar a coluna de operacao para ver se tem algo além de venda (no caso a coluna só tem sell - venda - entao irei dropar posteriormente)\n",
        "sorted(pd.unique(df2['operacao']))"
      ],
      "execution_count": 65,
      "outputs": [
        {
          "output_type": "execute_result",
          "data": {
            "text/plain": [
              "['sell']"
            ]
          },
          "metadata": {},
          "execution_count": 65
        }
      ]
    },
    {
      "cell_type": "code",
      "metadata": {
        "id": "TK_D2CXq09xP",
        "colab": {
          "base_uri": "https://localhost:8080/"
        },
        "outputId": "29abadd8-1a49-46bc-a8a2-dbec7fd98036"
      },
      "source": [
        "#chamar a coluna de país para ver se tem algo além de Brasil (no caso só tem Brasil - então iremos dropar posteriormente)\n",
        "sorted(pd.unique(df2['pais']))"
      ],
      "execution_count": 66,
      "outputs": [
        {
          "output_type": "execute_result",
          "data": {
            "text/plain": [
              "['Brasil']"
            ]
          },
          "metadata": {},
          "execution_count": 66
        }
      ]
    },
    {
      "cell_type": "code",
      "metadata": {
        "id": "z-ao8HGt09xP",
        "colab": {
          "base_uri": "https://localhost:8080/"
        },
        "outputId": "d9669bab-93ec-4874-c460-e688d45b28cf"
      },
      "source": [
        "#chamar a coluna de moeda para ver se tem algo além de BRL (no caso só tem BRL - então iremos dropar posteriormente)\n",
        "sorted(pd.unique(df2['moeda']))"
      ],
      "execution_count": 67,
      "outputs": [
        {
          "output_type": "execute_result",
          "data": {
            "text/plain": [
              "['', 'BRL', 'COP']"
            ]
          },
          "metadata": {},
          "execution_count": 67
        }
      ]
    },
    {
      "cell_type": "code",
      "metadata": {
        "id": "sBmJre1Y09xR"
      },
      "source": [
        "#criacao de variavel - colunas - para posterior drop\n",
        "colunas = ['operacao', 'pais', 'moeda', 'latitude_longitude', 'latitude', 'longitude', 'preco_aproximado_dolar', 'pais_local', \n",
        "'preco_dolar_por_m2', 'despesas', 'descricao', 'titulo', 'miniatura_imagem', 'url_da_propriedade', 'andar', 'preco_cheio']\n",
        "df2.drop(colunas, axis=1, inplace=True)"
      ],
      "execution_count": null,
      "outputs": []
    },
    {
      "cell_type": "code",
      "metadata": {
        "id": "b6FTpl6m09xS"
      },
      "source": [
        "#verificando se há (e quantos são) os valores na coluna nome_do_local\n",
        "df2['nome_do_local'].value_counts()"
      ],
      "execution_count": null,
      "outputs": []
    },
    {
      "cell_type": "code",
      "metadata": {
        "id": "kdlpClot09xU"
      },
      "source": [
        "#traduzindo as informações contidas na coluna de tipo_propriedade\n",
        "df2['tipo_propriedade'].replace(['house', 'apartment', 'store'],['casa','apartamento','loja'], inplace = True)"
      ],
      "execution_count": null,
      "outputs": []
    },
    {
      "cell_type": "code",
      "metadata": {
        "id": "b5kF1cev09xT",
        "colab": {
          "base_uri": "https://localhost:8080/"
        },
        "outputId": "7669ec85-1beb-414a-bcc8-121829afc685"
      },
      "source": [
        "#verificar se há apenas um valor na coluna (no caso a coluna propriedade_tipo tem 3 informações significativas e uma (PH) que será dropada)\n",
        "sorted(pd.unique(df2['tipo_propriedade']))"
      ],
      "execution_count": 71,
      "outputs": [
        {
          "output_type": "execute_result",
          "data": {
            "text/plain": [
              "['apartamento', 'casa', 'loja']"
            ]
          },
          "metadata": {},
          "execution_count": 71
        }
      ]
    },
    {
      "cell_type": "code",
      "metadata": {
        "id": "nmM8tmO009xU",
        "colab": {
          "base_uri": "https://localhost:8080/"
        },
        "outputId": "35bd03a2-f061-43ec-8d9b-418bca73534e"
      },
      "source": [
        "#contando quantos valores tem cada um dos itens em tipo_propriedade - casa, apartamento e lojas\n",
        "df2['tipo_propriedade'].value_counts()"
      ],
      "execution_count": 72,
      "outputs": [
        {
          "output_type": "execute_result",
          "data": {
            "text/plain": [
              "apartamento    273577\n",
              "casa           135213\n",
              "loja             8894\n",
              "Name: tipo_propriedade, dtype: int64"
            ]
          },
          "metadata": {},
          "execution_count": 72
        }
      ]
    },
    {
      "cell_type": "code",
      "metadata": {
        "id": "I79-Pjte09xV",
        "colab": {
          "base_uri": "https://localhost:8080/"
        },
        "outputId": "3d1345bf-e75c-4316-c5ab-abf2f7f6771e"
      },
      "source": [
        "#quantidade de quartos e salas (no caso das lojas)\n",
        "df2['quartos'].value_counts()"
      ],
      "execution_count": 73,
      "outputs": [
        {
          "output_type": "execute_result",
          "data": {
            "text/plain": [
              "1.0     144646\n",
              "2.0      91697\n",
              "3.0      41188\n",
              "4.0      13010\n",
              "5.0       2448\n",
              "6.0        689\n",
              "7.0        269\n",
              "8.0        174\n",
              "10.0       106\n",
              "9.0         86\n",
              "12.0        64\n",
              "11.0        52\n",
              "16.0        23\n",
              "15.0        16\n",
              "14.0        13\n",
              "20.0        12\n",
              "22.0        12\n",
              "13.0        10\n",
              "17.0         8\n",
              "18.0         7\n",
              "21.0         7\n",
              "25.0         5\n",
              "24.0         4\n",
              "23.0         4\n",
              "19.0         1\n",
              "28.0         1\n",
              "30.0         1\n",
              "31.0         1\n",
              "34.0         1\n",
              "40.0         1\n",
              "Name: quartos, dtype: int64"
            ]
          },
          "metadata": {},
          "execution_count": 73
        }
      ]
    },
    {
      "cell_type": "code",
      "metadata": {
        "id": "hw2TG4hD09xV"
      },
      "source": [
        "#chamar a coluna de quartos para descobrir quais os valores contidos\n",
        "sorted(pd.unique(df2['quartos']))"
      ],
      "execution_count": null,
      "outputs": []
    },
    {
      "cell_type": "code",
      "metadata": {
        "id": "ez8BScPm09xW"
      },
      "source": [
        "#devido a coluna quartos ser um float, forçamos ele a se tornar um numero inteiro e o NaN se tornar 0\n",
        "df['quartos'] = df2['quartos'].fillna(0.0).astype(int)"
      ],
      "execution_count": 75,
      "outputs": []
    },
    {
      "cell_type": "code",
      "metadata": {
        "id": "iLiyM4-m09xW"
      },
      "source": [
        "df2.head(10)"
      ],
      "execution_count": null,
      "outputs": []
    },
    {
      "cell_type": "code",
      "metadata": {
        "id": "x5hGcPXqLHBL"
      },
      "source": [
        "from google.colab import drive\n",
        "drive.mount('/content/drive')"
      ],
      "execution_count": null,
      "outputs": []
    },
    {
      "cell_type": "code",
      "metadata": {
        "id": "deCItgrghOWE"
      },
      "source": [
        "df2.groupby(['tipo_propriedade'])\\\n",
        ".tipo_propriedade\\\n",
        ".count()\\\n",
        ".sort_values()\\\n",
        ".plot(kind='pie', figsize=(15,5),label='Tipos de Propriedades')"
      ],
      "execution_count": null,
      "outputs": []
    },
    {
      "cell_type": "code",
      "metadata": {
        "id": "WD9L2iqAhSoa"
      },
      "source": [
        "# Gráfico que demonstra o número de ocorrências de imóveis por cada estado, onde\n",
        "# pode-se notar os estados com maior índice de imóveis divulgados\n",
        "df2.groupby(['estado'])\\\n",
        ".estado\\\n",
        ".count()\\\n",
        ".sort_values()\\\n",
        ".plot(\n",
        "    kind='bar',\n",
        "    color='orange',\n",
        "    figsize=(15,6),\n",
        "    title='OCORRÊNCIAS POR ESTADO',\n",
        "    xlabel='Estados',\n",
        "    ylabel='Ocorrêcias'\n",
        ")"
      ],
      "execution_count": null,
      "outputs": []
    },
    {
      "cell_type": "code",
      "metadata": {
        "id": "K19Q0xPMsGfY"
      },
      "source": [
        "df2.to_csv('ProjetoFinalPandas02')"
      ],
      "execution_count": 80,
      "outputs": []
    }
  ]
}