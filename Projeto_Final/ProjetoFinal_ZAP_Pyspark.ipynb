{
  "nbformat": 4,
  "nbformat_minor": 0,
  "metadata": {
    "colab": {
      "name": "ProjetoFinalZAP_Pyspark.ipynb",
      "provenance": [],
      "collapsed_sections": []
    },
    "kernelspec": {
      "name": "python3",
      "display_name": "Python 3"
    },
    "language_info": {
      "name": "python"
    }
  },
  "cells": [
    {
      "cell_type": "code",
      "metadata": {
        "id": "Qc8jmdhaiAqp",
        "colab": {
          "base_uri": "https://localhost:8080/"
        },
        "outputId": "5a21ad4c-f105-4cf7-9a8b-5ddf56e66e90"
      },
      "source": [
        "# instalar as dependências\n",
        "!apt-get install openjdk-8-jdk-headless -qq > /dev/null\n",
        "!wget -q https://archive.apache.org/dist/spark/spark-2.4.4/spark-2.4.4-bin-hadoop2.7.tgz\n",
        "!tar xf spark-2.4.4-bin-hadoop2.7.tgz\n",
        "!pip install -q findspark\n",
        "!pip install fsspec\n",
        "!pip install gcsfs"
      ],
      "execution_count": 24,
      "outputs": [
        {
          "output_type": "stream",
          "name": "stdout",
          "text": [
            "Requirement already satisfied: fsspec in /usr/local/lib/python3.7/dist-packages (2021.11.0)\n",
            "Requirement already satisfied: gcsfs in /usr/local/lib/python3.7/dist-packages (2021.11.0)\n",
            "Requirement already satisfied: decorator>4.1.2 in /usr/local/lib/python3.7/dist-packages (from gcsfs) (4.4.2)\n",
            "Requirement already satisfied: aiohttp in /usr/local/lib/python3.7/dist-packages (from gcsfs) (3.8.1)\n",
            "Requirement already satisfied: google-cloud-storage in /usr/local/lib/python3.7/dist-packages (from gcsfs) (1.18.1)\n",
            "Requirement already satisfied: requests in /usr/local/lib/python3.7/dist-packages (from gcsfs) (2.23.0)\n",
            "Requirement already satisfied: fsspec==2021.11.0 in /usr/local/lib/python3.7/dist-packages (from gcsfs) (2021.11.0)\n",
            "Requirement already satisfied: google-auth>=1.2 in /usr/local/lib/python3.7/dist-packages (from gcsfs) (1.35.0)\n",
            "Requirement already satisfied: google-auth-oauthlib in /usr/local/lib/python3.7/dist-packages (from gcsfs) (0.4.6)\n",
            "Requirement already satisfied: pyasn1-modules>=0.2.1 in /usr/local/lib/python3.7/dist-packages (from google-auth>=1.2->gcsfs) (0.2.8)\n",
            "Requirement already satisfied: six>=1.9.0 in /usr/local/lib/python3.7/dist-packages (from google-auth>=1.2->gcsfs) (1.15.0)\n",
            "Requirement already satisfied: cachetools<5.0,>=2.0.0 in /usr/local/lib/python3.7/dist-packages (from google-auth>=1.2->gcsfs) (4.2.4)\n",
            "Requirement already satisfied: setuptools>=40.3.0 in /usr/local/lib/python3.7/dist-packages (from google-auth>=1.2->gcsfs) (57.4.0)\n",
            "Requirement already satisfied: rsa<5,>=3.1.4 in /usr/local/lib/python3.7/dist-packages (from google-auth>=1.2->gcsfs) (4.7.2)\n",
            "Requirement already satisfied: pyasn1<0.5.0,>=0.4.6 in /usr/local/lib/python3.7/dist-packages (from pyasn1-modules>=0.2.1->google-auth>=1.2->gcsfs) (0.4.8)\n",
            "Requirement already satisfied: typing-extensions>=3.7.4 in /usr/local/lib/python3.7/dist-packages (from aiohttp->gcsfs) (3.10.0.2)\n",
            "Requirement already satisfied: frozenlist>=1.1.1 in /usr/local/lib/python3.7/dist-packages (from aiohttp->gcsfs) (1.2.0)\n",
            "Requirement already satisfied: async-timeout<5.0,>=4.0.0a3 in /usr/local/lib/python3.7/dist-packages (from aiohttp->gcsfs) (4.0.1)\n",
            "Requirement already satisfied: attrs>=17.3.0 in /usr/local/lib/python3.7/dist-packages (from aiohttp->gcsfs) (21.2.0)\n",
            "Requirement already satisfied: multidict<7.0,>=4.5 in /usr/local/lib/python3.7/dist-packages (from aiohttp->gcsfs) (5.2.0)\n",
            "Requirement already satisfied: yarl<2.0,>=1.0 in /usr/local/lib/python3.7/dist-packages (from aiohttp->gcsfs) (1.7.2)\n",
            "Requirement already satisfied: asynctest==0.13.0 in /usr/local/lib/python3.7/dist-packages (from aiohttp->gcsfs) (0.13.0)\n",
            "Requirement already satisfied: charset-normalizer<3.0,>=2.0 in /usr/local/lib/python3.7/dist-packages (from aiohttp->gcsfs) (2.0.7)\n",
            "Requirement already satisfied: aiosignal>=1.1.2 in /usr/local/lib/python3.7/dist-packages (from aiohttp->gcsfs) (1.2.0)\n",
            "Requirement already satisfied: idna>=2.0 in /usr/local/lib/python3.7/dist-packages (from yarl<2.0,>=1.0->aiohttp->gcsfs) (2.10)\n",
            "Requirement already satisfied: requests-oauthlib>=0.7.0 in /usr/local/lib/python3.7/dist-packages (from google-auth-oauthlib->gcsfs) (1.3.0)\n",
            "Requirement already satisfied: oauthlib>=3.0.0 in /usr/local/lib/python3.7/dist-packages (from requests-oauthlib>=0.7.0->google-auth-oauthlib->gcsfs) (3.1.1)\n",
            "Requirement already satisfied: urllib3!=1.25.0,!=1.25.1,<1.26,>=1.21.1 in /usr/local/lib/python3.7/dist-packages (from requests->gcsfs) (1.24.3)\n",
            "Requirement already satisfied: chardet<4,>=3.0.2 in /usr/local/lib/python3.7/dist-packages (from requests->gcsfs) (3.0.4)\n",
            "Requirement already satisfied: certifi>=2017.4.17 in /usr/local/lib/python3.7/dist-packages (from requests->gcsfs) (2021.10.8)\n",
            "Requirement already satisfied: google-cloud-core<2.0dev,>=1.0.0 in /usr/local/lib/python3.7/dist-packages (from google-cloud-storage->gcsfs) (1.0.3)\n",
            "Requirement already satisfied: google-resumable-media<0.5.0dev,>=0.3.1 in /usr/local/lib/python3.7/dist-packages (from google-cloud-storage->gcsfs) (0.4.1)\n",
            "Requirement already satisfied: google-api-core<2.0.0dev,>=1.14.0 in /usr/local/lib/python3.7/dist-packages (from google-cloud-core<2.0dev,>=1.0.0->google-cloud-storage->gcsfs) (1.26.3)\n",
            "Requirement already satisfied: googleapis-common-protos<2.0dev,>=1.6.0 in /usr/local/lib/python3.7/dist-packages (from google-api-core<2.0.0dev,>=1.14.0->google-cloud-core<2.0dev,>=1.0.0->google-cloud-storage->gcsfs) (1.53.0)\n",
            "Requirement already satisfied: pytz in /usr/local/lib/python3.7/dist-packages (from google-api-core<2.0.0dev,>=1.14.0->google-cloud-core<2.0dev,>=1.0.0->google-cloud-storage->gcsfs) (2018.9)\n",
            "Requirement already satisfied: protobuf>=3.12.0 in /usr/local/lib/python3.7/dist-packages (from google-api-core<2.0.0dev,>=1.14.0->google-cloud-core<2.0dev,>=1.0.0->google-cloud-storage->gcsfs) (3.17.3)\n",
            "Requirement already satisfied: packaging>=14.3 in /usr/local/lib/python3.7/dist-packages (from google-api-core<2.0.0dev,>=1.14.0->google-cloud-core<2.0dev,>=1.0.0->google-cloud-storage->gcsfs) (21.3)\n",
            "Requirement already satisfied: pyparsing!=3.0.5,>=2.0.2 in /usr/local/lib/python3.7/dist-packages (from packaging>=14.3->google-api-core<2.0.0dev,>=1.14.0->google-cloud-core<2.0dev,>=1.0.0->google-cloud-storage->gcsfs) (3.0.6)\n"
          ]
        }
      ]
    },
    {
      "cell_type": "code",
      "metadata": {
        "colab": {
          "base_uri": "https://localhost:8080/"
        },
        "id": "9Frj_7aCkGoI",
        "outputId": "d56767ff-58ea-4c6d-8f7e-6bd306be2ae2"
      },
      "source": [
        "#BIBLIOTECAS\n",
        "!pip install pyspark\n",
        "import pyspark.sql.functions as F\n",
        "from pyspark.sql import SparkSession\n",
        "from pyspark.sql.types import StructType, StructField, StringType, IntegerType, DoubleType, DateType, LongType\n",
        "from pyspark.sql.window import Window\n",
        "import pandas as pd\n",
        "from pyspark.sql.functions import monotonically_increasing_id "
      ],
      "execution_count": 25,
      "outputs": [
        {
          "output_type": "stream",
          "name": "stdout",
          "text": [
            "Requirement already satisfied: pyspark in /usr/local/lib/python3.7/dist-packages (3.2.0)\n",
            "Requirement already satisfied: py4j==0.10.9.2 in /usr/local/lib/python3.7/dist-packages (from pyspark) (0.10.9.2)\n"
          ]
        }
      ]
    },
    {
      "cell_type": "code",
      "metadata": {
        "id": "iMIvwRPk2L8X"
      },
      "source": [
        "import os\n",
        "from google.cloud import storage"
      ],
      "execution_count": 26,
      "outputs": []
    },
    {
      "cell_type": "code",
      "metadata": {
        "id": "F4m5DqfikGq1",
        "colab": {
          "base_uri": "https://localhost:8080/",
          "height": 222
        },
        "outputId": "a1b84d82-134d-4f57-fdab-d21e0f9d5ddc"
      },
      "source": [
        "#CONFIGURAR A SPARKSESSION\n",
        "\n",
        "spark = (SparkSession.builder\\\n",
        "        .master(\"local\")\\\n",
        "        .appName(\"ProjetoFinal_Pyspark\")\\\n",
        "        .config(\"spark.ui.port\", \"4050\")\\\n",
        "        .getOrCreate())\n",
        "\n",
        "spark"
      ],
      "execution_count": 27,
      "outputs": [
        {
          "output_type": "execute_result",
          "data": {
            "text/html": [
              "\n",
              "            <div>\n",
              "                <p><b>SparkSession - in-memory</b></p>\n",
              "                \n",
              "        <div>\n",
              "            <p><b>SparkContext</b></p>\n",
              "\n",
              "            <p><a href=\"http://1f702a1adc02:4050\">Spark UI</a></p>\n",
              "\n",
              "            <dl>\n",
              "              <dt>Version</dt>\n",
              "                <dd><code>v3.2.0</code></dd>\n",
              "              <dt>Master</dt>\n",
              "                <dd><code>local</code></dd>\n",
              "              <dt>AppName</dt>\n",
              "                <dd><code>ProjetoFinal_Pyspark</code></dd>\n",
              "            </dl>\n",
              "        </div>\n",
              "        \n",
              "            </div>\n",
              "        "
            ],
            "text/plain": [
              "<pyspark.sql.session.SparkSession at 0x7f11a1f6c1d0>"
            ]
          },
          "metadata": {},
          "execution_count": 27
        }
      ]
    },
    {
      "cell_type": "code",
      "metadata": {
        "colab": {
          "base_uri": "https://localhost:8080/"
        },
        "id": "IzlmPukgkGtx",
        "outputId": "108767d8-d5fd-42fc-b1e4-71e96d939946"
      },
      "source": [
        "# Abrindo o arquivo\n",
        "serviceaccount = '/content/Chave_Ingestao_Apache.json'\n",
        "os.environ[\"GOOGLE_APPLICATION_CREDENTIALS\"] = serviceaccount\n",
        "\n",
        "df1 = spark\\\n",
        "    .read\\\n",
        "    .format('csv')\\\n",
        "    .option('header', 'True')\\\n",
        "    .option('inferschema','False')\\\n",
        "    .option('delimiter', ',')\\\n",
        "    .load('/content/saida_dados_Projeto_Final_ZAP_Pandas.csv')\n",
        "\n",
        "\n",
        "df1.show(5)\n",
        "df1.printSchema() "
      ],
      "execution_count": 28,
      "outputs": [
        {
          "output_type": "stream",
          "name": "stdout",
          "text": [
            "+--------------------+-----------+--------------+-------------+--------------+--------------+------------+-------------+---------+--------+----------+-------+----------+-------+------------------+----------------+-------------+-------------+-----------+----------+-----------+------------+-------------+-----+---------------------+----------+\n",
            "|        nome_empresa|tipo_imovel| cidade_imovel|site_pesquisa| estado_imovel|qtde_banheiros|qtde_quartos|tipo_contrato|mobilhado|academia|desocupado|garagem|area_lazer|piscina|plataforma_digital|preco_condominio|preco_periodo|valor_aluguel|valor_venda|iptu_anual|qtde_suites|quadra_tenis|area_total_m2|andar|residencial_comercial|      data|\n",
            "+--------------------+-----------+--------------+-------------+--------------+--------------+------------+-------------+---------+--------+----------+-------+----------+-------+------------------+----------------+-------------+-------------+-----------+----------+-----------+------------+-------------+-----+---------------------+----------+\n",
            "|ADI Assessoria e ...|apartamento|     São Paulo|       GOOGLE|     São Paulo|             1|           2|      Aluguel|      Não|     Não|       Não|      0|       Não|    Não|               ZAP|              50|          mês|          1.3|       null|        50|          0|         Não|           45|    0|          Residencial|2020-06-17|\n",
            "|   San Remos Imóveis|apartamento| Florianópolis|       GOOGLE|Santa Catarina|             3|           3|      Aluguel|      Não|     Não|       Não|      1|       Não|    Não|               ZAP|           1.961|          mês|          3.6|       null|       370|          1|         Não|          140|    0|          Residencial|2020-07-10|\n",
            "|Família Bacellar ...|apartamento|Rio de Janeiro|       GOOGLE|Rio de Janeiro|             3|           3|      Aluguel|      Não|     Não|       Não|      2|       Não|    Não|               ZAP|             835|          mês|          2.1|       null|       244|          1|         Não|          100|    0|          Residencial|2020-07-23|\n",
            "|Next Soluções Imo...|apartamento|      Campinas|       GOOGLE|     São Paulo|             2|           1|      Aluguel|      Não|     Não|       Não|      1|       Não|    Sim|               ZAP|         134.437|          mês|          3.0|       null|        90|          0|         Não|           80|    0|          Residencial|2016-12-12|\n",
            "|QUINTO ANDAR SERV...|apartamento|     São Paulo|       GOOGLE|     São Paulo|             3|           2|      Aluguel|      Não|     Não|       Não|      2|       Sim|    Sim|               ZAP|             536|          mês|          2.6|       null|        17|          2|         Não|           69|    0|          Residencial|2020-07-28|\n",
            "+--------------------+-----------+--------------+-------------+--------------+--------------+------------+-------------+---------+--------+----------+-------+----------+-------+------------------+----------------+-------------+-------------+-----------+----------+-----------+------------+-------------+-----+---------------------+----------+\n",
            "only showing top 5 rows\n",
            "\n",
            "root\n",
            " |-- nome_empresa: string (nullable = true)\n",
            " |-- tipo_imovel: string (nullable = true)\n",
            " |-- cidade_imovel: string (nullable = true)\n",
            " |-- site_pesquisa: string (nullable = true)\n",
            " |-- estado_imovel: string (nullable = true)\n",
            " |-- qtde_banheiros: string (nullable = true)\n",
            " |-- qtde_quartos: string (nullable = true)\n",
            " |-- tipo_contrato: string (nullable = true)\n",
            " |-- mobilhado: string (nullable = true)\n",
            " |-- academia: string (nullable = true)\n",
            " |-- desocupado: string (nullable = true)\n",
            " |-- garagem: string (nullable = true)\n",
            " |-- area_lazer: string (nullable = true)\n",
            " |-- piscina: string (nullable = true)\n",
            " |-- plataforma_digital: string (nullable = true)\n",
            " |-- preco_condominio: string (nullable = true)\n",
            " |-- preco_periodo: string (nullable = true)\n",
            " |-- valor_aluguel: string (nullable = true)\n",
            " |-- valor_venda: string (nullable = true)\n",
            " |-- iptu_anual: string (nullable = true)\n",
            " |-- qtde_suites: string (nullable = true)\n",
            " |-- quadra_tenis: string (nullable = true)\n",
            " |-- area_total_m2: string (nullable = true)\n",
            " |-- andar: string (nullable = true)\n",
            " |-- residencial_comercial: string (nullable = true)\n",
            " |-- data: string (nullable = true)\n",
            "\n"
          ]
        }
      ]
    },
    {
      "cell_type": "code",
      "metadata": {
        "colab": {
          "base_uri": "https://localhost:8080/"
        },
        "id": "TtyE5GY8JQ69",
        "outputId": "eece5d21-55fc-426a-fe83-e70f38310c48"
      },
      "source": [
        "df1 = df1.select(\"*\").withColumn(\"id\", monotonically_increasing_id())\n",
        "df1.show()"
      ],
      "execution_count": 29,
      "outputs": [
        {
          "output_type": "stream",
          "name": "stdout",
          "text": [
            "+--------------------+-----------+--------------------+-------------+-----------------+--------------+------------+-------------+---------+--------+----------+-------+----------+-------+------------------+----------------+-------------+------------------+-----------+----------+-----------+------------+-------------+-----+---------------------+----------+---+\n",
            "|        nome_empresa|tipo_imovel|       cidade_imovel|site_pesquisa|    estado_imovel|qtde_banheiros|qtde_quartos|tipo_contrato|mobilhado|academia|desocupado|garagem|area_lazer|piscina|plataforma_digital|preco_condominio|preco_periodo|     valor_aluguel|valor_venda|iptu_anual|qtde_suites|quadra_tenis|area_total_m2|andar|residencial_comercial|      data| id|\n",
            "+--------------------+-----------+--------------------+-------------+-----------------+--------------+------------+-------------+---------+--------+----------+-------+----------+-------+------------------+----------------+-------------+------------------+-----------+----------+-----------+------------+-------------+-----+---------------------+----------+---+\n",
            "|ADI Assessoria e ...|apartamento|           São Paulo|       GOOGLE|        São Paulo|             1|           2|      Aluguel|      Não|     Não|       Não|      0|       Não|    Não|               ZAP|              50|          mês|               1.3|       null|        50|          0|         Não|           45|    0|          Residencial|2020-06-17|  0|\n",
            "|   San Remos Imóveis|apartamento|       Florianópolis|       GOOGLE|   Santa Catarina|             3|           3|      Aluguel|      Não|     Não|       Não|      1|       Não|    Não|               ZAP|           1.961|          mês|               3.6|       null|       370|          1|         Não|          140|    0|          Residencial|2020-07-10|  1|\n",
            "|Família Bacellar ...|apartamento|      Rio de Janeiro|       GOOGLE|   Rio de Janeiro|             3|           3|      Aluguel|      Não|     Não|       Não|      2|       Não|    Não|               ZAP|             835|          mês|               2.1|       null|       244|          1|         Não|          100|    0|          Residencial|2020-07-23|  2|\n",
            "|Next Soluções Imo...|apartamento|            Campinas|       GOOGLE|        São Paulo|             2|           1|      Aluguel|      Não|     Não|       Não|      1|       Não|    Sim|               ZAP|         134.437|          mês|               3.0|       null|        90|          0|         Não|           80|    0|          Residencial|2016-12-12|  3|\n",
            "|QUINTO ANDAR SERV...|apartamento|           São Paulo|       GOOGLE|        São Paulo|             3|           2|      Aluguel|      Não|     Não|       Não|      2|       Sim|    Sim|               ZAP|             536|          mês|               2.6|       null|        17|          2|         Não|           69|    0|          Residencial|2020-07-28|  4|\n",
            "|FLAVIA DANIELLE P...|apartamento|      Rio de Janeiro|       GOOGLE|   Rio de Janeiro|             1|           2|      Aluguel|      Sim|     Sim|       Não|      1|       Não|    Sim|               ZAP|             809|          mês|               2.5|       null|       236|          1|         Não|           64|    0|          Residencial|2020-07-22|  5|\n",
            "|QUINTO ANDAR SERV...|apartamento|           São Paulo|       GOOGLE|        São Paulo|             2|           1|      Aluguel|      Sim|     Não|       Não|      1|       Não|    Sim|               ZAP|             880|          mês|               4.9|       null|       109|          1|         Não|           67|    0|          Residencial|2020-07-25|  6|\n",
            "|LELLO IMÓVEIS TAT...|apartamento|           São Paulo|       GOOGLE|        São Paulo|             2|           2|      Aluguel|      Não|     Sim|       Não|      1|       Não|    Sim|               ZAP|             800|          mês|               1.9|       null|       132|          1|         Não|           73|    0|          Residencial|2020-07-16|  7|\n",
            "|         NBI IMOVEIS|apartamento|São José do Rio P...|       GOOGLE|        São Paulo|             2|           2|      Aluguel|      Não|     Não|       Não|      1|       Não|    Não|          GRUPOZAP|             450|          mês|               1.4|       null|        73|          2|         Não|           70|    0|          Residencial|2020-07-28|  8|\n",
            "|PORTAL ADMINISTRA...|apartamento|        Porto Alegre|       GOOGLE|Rio Grande do Sul|             1|           2|      Aluguel|      Não|     Não|       Não|      0|       Não|    Não|               ZAP|             260|          mês|               1.0|       null|        30|          0|         Não|           64|    2|          Residencial|2020-07-13|  9|\n",
            "|LELLO IMÓVEIS JUN...|apartamento|             Jundiaí|       GOOGLE|        São Paulo|             2|           3|      Aluguel|      Não|     Não|       Não|      2|       Não|    Não|               ZAP|             800|          mês|              1.65|       null|       251|          1|         Não|          168|    0|          Residencial|2020-07-25| 10|\n",
            "|QUINTO ANDAR SERV...|apartamento|           São Paulo|       GOOGLE|        São Paulo|             2|           2|      Aluguel|      Não|     Não|       Não|      2|       Não|    Não|               ZAP|             810|          mês|               1.8|       null|        95|          1|         Não|           68|    0|          Residencial|2020-07-28| 11|\n",
            "|QUINTO ANDAR SERV...|apartamento|      Belo Horizonte|       GOOGLE|     Minas Gerais|             3|           3|      Aluguel|      Não|     Não|       Não|      2|       Sim|    Não|               ZAP|             850|          mês|              2.65|       null|       297|          1|         Não|           90|    0|          Residencial|2020-07-28| 12|\n",
            "|Predial Lins Prem...|apartamento|           São Paulo|       GOOGLE|        São Paulo|             1|           2|      Aluguel|      Não|     Sim|       Não|      1|       Sim|    Não|               ZAP|             450|          mês|               1.6|       null|       102|          0|         Não|           50|    0|          Residencial|2020-07-15| 13|\n",
            "|    Fernanda Freitas|apartamento|      Rio de Janeiro|       GOOGLE|   Rio de Janeiro|             1|           1|      Aluguel|      Não|     Sim|       Não|      1|       Sim|    Sim|               ZAP|           1.250|          mês|               1.8|       null|       217|          1|         Não|         null|    4|          Residencial|2020-07-26| 14|\n",
            "|  IMIGRANTES IMOVEIS|apartamento|        Praia Grande|       GOOGLE|        São Paulo|             2|           2|      Aluguel|      Não|     Não|       Não|      1|       Não|    Não|               ZAP|            null|          mês|1.5219999999999998|       null|      null|          1|         Não|           80|    0|          Residencial|2020-07-18| 15|\n",
            "|QUINTO ANDAR SERV...|apartamento|           São Paulo|       GOOGLE|        São Paulo|             3|           3|      Aluguel|      Sim|     Não|       Não|      2|       Não|    Sim|               ZAP|           1.085|          mês|               6.8|       null|       431|          1|         Não|           84|    0|          Residencial|2020-07-24| 16|\n",
            "|    Potência Imóveis|apartamento|             Barueri|       GOOGLE|        São Paulo|             2|           2|      Aluguel|      Sim|     Não|       Não|      2|       Não|    Sim|               ZAP|             690|          mês|              2.81|       null|        50|          2|         Não|           86|    0|          Residencial|2020-07-22| 17|\n",
            "|                 Ar7|apartamento|        Praia Grande|       GOOGLE|        São Paulo|             2|           2|      Aluguel|      Não|     Não|       Não|      1|       Não|    Não|               ZAP|            null|          mês|               1.5|       null|      null|          1|         Não|           96|    0|          Residencial|2020-07-21| 18|\n",
            "|AG NEGÓCIOS IMOBI...|apartamento|      Belo Horizonte|       GOOGLE|     Minas Gerais|             3|           3|      Aluguel|      Não|     Não|       Não|      4|       Não|    Sim|               ZAP|             550|          mês|               3.0|       null|      null|          1|         Não|          270|    0|          Residencial|2020-07-09| 19|\n",
            "+--------------------+-----------+--------------------+-------------+-----------------+--------------+------------+-------------+---------+--------+----------+-------+----------+-------+------------------+----------------+-------------+------------------+-----------+----------+-----------+------------+-------------+-----+---------------------+----------+---+\n",
            "only showing top 20 rows\n",
            "\n"
          ]
        }
      ]
    },
    {
      "cell_type": "code",
      "metadata": {
        "colab": {
          "base_uri": "https://localhost:8080/"
        },
        "id": "qI427qj9kGwM",
        "outputId": "3c54bf0f-3f13-4db0-eb9a-40b40673cecb"
      },
      "source": [
        "# Alterando nomes das colunas \"valoraluguel\", \"valor_venda\" e \"qdte_quartos\"\n",
        "df1 = df1.withColumnRenamed(\"valoraluguel\", \"valor_aluguel\")\n",
        "df1.show(1)"
      ],
      "execution_count": 30,
      "outputs": [
        {
          "output_type": "stream",
          "name": "stdout",
          "text": [
            "+--------------------+-----------+-------------+-------------+-------------+--------------+------------+-------------+---------+--------+----------+-------+----------+-------+------------------+----------------+-------------+-------------+-----------+----------+-----------+------------+-------------+-----+---------------------+----------+---+\n",
            "|        nome_empresa|tipo_imovel|cidade_imovel|site_pesquisa|estado_imovel|qtde_banheiros|qtde_quartos|tipo_contrato|mobilhado|academia|desocupado|garagem|area_lazer|piscina|plataforma_digital|preco_condominio|preco_periodo|valor_aluguel|valor_venda|iptu_anual|qtde_suites|quadra_tenis|area_total_m2|andar|residencial_comercial|      data| id|\n",
            "+--------------------+-----------+-------------+-------------+-------------+--------------+------------+-------------+---------+--------+----------+-------+----------+-------+------------------+----------------+-------------+-------------+-----------+----------+-----------+------------+-------------+-----+---------------------+----------+---+\n",
            "|ADI Assessoria e ...|apartamento|    São Paulo|       GOOGLE|    São Paulo|             1|           2|      Aluguel|      Não|     Não|       Não|      0|       Não|    Não|               ZAP|              50|          mês|          1.3|       null|        50|          0|         Não|           45|    0|          Residencial|2020-06-17|  0|\n",
            "+--------------------+-----------+-------------+-------------+-------------+--------------+------------+-------------+---------+--------+----------+-------+----------+-------+------------------+----------------+-------------+-------------+-----------+----------+-----------+------------+-------------+-----+---------------------+----------+---+\n",
            "only showing top 1 row\n",
            "\n"
          ]
        }
      ]
    },
    {
      "cell_type": "code",
      "metadata": {
        "id": "EC0RQdTtkGya",
        "colab": {
          "base_uri": "https://localhost:8080/"
        },
        "outputId": "62df6c63-a694-4b51-aa63-b5b970c15082"
      },
      "source": [
        "#Drop coluna \"descocupado\"\n",
        "df1.drop('desocupado')\n",
        "df1.show(5)"
      ],
      "execution_count": 31,
      "outputs": [
        {
          "output_type": "stream",
          "name": "stdout",
          "text": [
            "+--------------------+-----------+--------------+-------------+--------------+--------------+------------+-------------+---------+--------+----------+-------+----------+-------+------------------+----------------+-------------+-------------+-----------+----------+-----------+------------+-------------+-----+---------------------+----------+---+\n",
            "|        nome_empresa|tipo_imovel| cidade_imovel|site_pesquisa| estado_imovel|qtde_banheiros|qtde_quartos|tipo_contrato|mobilhado|academia|desocupado|garagem|area_lazer|piscina|plataforma_digital|preco_condominio|preco_periodo|valor_aluguel|valor_venda|iptu_anual|qtde_suites|quadra_tenis|area_total_m2|andar|residencial_comercial|      data| id|\n",
            "+--------------------+-----------+--------------+-------------+--------------+--------------+------------+-------------+---------+--------+----------+-------+----------+-------+------------------+----------------+-------------+-------------+-----------+----------+-----------+------------+-------------+-----+---------------------+----------+---+\n",
            "|ADI Assessoria e ...|apartamento|     São Paulo|       GOOGLE|     São Paulo|             1|           2|      Aluguel|      Não|     Não|       Não|      0|       Não|    Não|               ZAP|              50|          mês|          1.3|       null|        50|          0|         Não|           45|    0|          Residencial|2020-06-17|  0|\n",
            "|   San Remos Imóveis|apartamento| Florianópolis|       GOOGLE|Santa Catarina|             3|           3|      Aluguel|      Não|     Não|       Não|      1|       Não|    Não|               ZAP|           1.961|          mês|          3.6|       null|       370|          1|         Não|          140|    0|          Residencial|2020-07-10|  1|\n",
            "|Família Bacellar ...|apartamento|Rio de Janeiro|       GOOGLE|Rio de Janeiro|             3|           3|      Aluguel|      Não|     Não|       Não|      2|       Não|    Não|               ZAP|             835|          mês|          2.1|       null|       244|          1|         Não|          100|    0|          Residencial|2020-07-23|  2|\n",
            "|Next Soluções Imo...|apartamento|      Campinas|       GOOGLE|     São Paulo|             2|           1|      Aluguel|      Não|     Não|       Não|      1|       Não|    Sim|               ZAP|         134.437|          mês|          3.0|       null|        90|          0|         Não|           80|    0|          Residencial|2016-12-12|  3|\n",
            "|QUINTO ANDAR SERV...|apartamento|     São Paulo|       GOOGLE|     São Paulo|             3|           2|      Aluguel|      Não|     Não|       Não|      2|       Sim|    Sim|               ZAP|             536|          mês|          2.6|       null|        17|          2|         Não|           69|    0|          Residencial|2020-07-28|  4|\n",
            "+--------------------+-----------+--------------+-------------+--------------+--------------+------------+-------------+---------+--------+----------+-------+----------+-------+------------------+----------------+-------------+-------------+-----------+----------+-----------+------------+-------------+-----+---------------------+----------+---+\n",
            "only showing top 5 rows\n",
            "\n"
          ]
        }
      ]
    },
    {
      "cell_type": "code",
      "metadata": {
        "id": "db4Ukk7QkG2P",
        "colab": {
          "base_uri": "https://localhost:8080/"
        },
        "outputId": "96a2903e-00c0-434a-d705-727cd9bdfc5f"
      },
      "source": [
        "#Quantidade de cada tipo de imóvel presente no dataframe em ordem decrescente\n",
        "df1.groupBy(F.col(\"tipo_imovel\")).count().sort(\"count\", ascending=False).show()"
      ],
      "execution_count": 32,
      "outputs": [
        {
          "output_type": "stream",
          "name": "stdout",
          "text": [
            "+------------------+-----+\n",
            "|       tipo_imovel|count|\n",
            "+------------------+-----+\n",
            "|       apartamento| 7440|\n",
            "|              casa| 6768|\n",
            "|casa-de-condominio| 6720|\n",
            "|              flat| 5208|\n",
            "|         cobertura| 4763|\n",
            "|         quitinete| 4392|\n",
            "|      casa-de-vila|  354|\n",
            "|            studio|  127|\n",
            "+------------------+-----+\n",
            "\n"
          ]
        }
      ]
    },
    {
      "cell_type": "code",
      "metadata": {
        "id": "95UoLDAs8GWw",
        "colab": {
          "base_uri": "https://localhost:8080/"
        },
        "outputId": "b621456e-9c6a-4872-a9f9-585b9334c7b2"
      },
      "source": [
        "# Descrição do imovel por tipo e cômodos\n",
        "df1.select(F.col(\"tipo_imovel\"),\n",
        "           F.col(\"qtde_quartos\"), \n",
        "           F.col(\"qtde_suites\"),\n",
        "           F.col(\"qtde_banheiros\"),  \n",
        "           F.col(\"quadra_tenis\"), \n",
        "           F.col(\"piscina\"), \n",
        "           F.col(\"area_lazer\"), \n",
        "           F.col(\"garagem\")).show(10)"
      ],
      "execution_count": 33,
      "outputs": [
        {
          "output_type": "stream",
          "name": "stdout",
          "text": [
            "+-----------+------------+-----------+--------------+------------+-------+----------+-------+\n",
            "|tipo_imovel|qtde_quartos|qtde_suites|qtde_banheiros|quadra_tenis|piscina|area_lazer|garagem|\n",
            "+-----------+------------+-----------+--------------+------------+-------+----------+-------+\n",
            "|apartamento|           2|          0|             1|         Não|    Não|       Não|      0|\n",
            "|apartamento|           3|          1|             3|         Não|    Não|       Não|      1|\n",
            "|apartamento|           3|          1|             3|         Não|    Não|       Não|      2|\n",
            "|apartamento|           1|          0|             2|         Não|    Sim|       Não|      1|\n",
            "|apartamento|           2|          2|             3|         Não|    Sim|       Sim|      2|\n",
            "|apartamento|           2|          1|             1|         Não|    Sim|       Não|      1|\n",
            "|apartamento|           1|          1|             2|         Não|    Sim|       Não|      1|\n",
            "|apartamento|           2|          1|             2|         Não|    Sim|       Não|      1|\n",
            "|apartamento|           2|          2|             2|         Não|    Não|       Não|      1|\n",
            "|apartamento|           2|          0|             1|         Não|    Não|       Não|      0|\n",
            "+-----------+------------+-----------+--------------+------------+-------+----------+-------+\n",
            "only showing top 10 rows\n",
            "\n"
          ]
        }
      ]
    },
    {
      "cell_type": "code",
      "metadata": {
        "id": "q6kjH0fIlrOW",
        "colab": {
          "base_uri": "https://localhost:8080/"
        },
        "outputId": "b47b980f-e930-40ac-93d1-e8bf93f1a3d9"
      },
      "source": [
        "#Quantidade de imóveis anunciados, em ordem decrescente, em cidades do estado de São Paulo\n",
        "df1.groupBy(F.col(\"cidade_imovel\")).count().sort(\"count\", ascending=False).show()"
      ],
      "execution_count": 34,
      "outputs": [
        {
          "output_type": "stream",
          "name": "stdout",
          "text": [
            "+--------------------+-----+\n",
            "|       cidade_imovel|count|\n",
            "+--------------------+-----+\n",
            "|           São Paulo|12533|\n",
            "|      Rio de Janeiro| 3639|\n",
            "|            Campinas| 2327|\n",
            "|        Porto Alegre| 1473|\n",
            "|      Belo Horizonte|  873|\n",
            "|            Curitiba|  798|\n",
            "|      Ribeirão Preto|  716|\n",
            "|             Barueri|  634|\n",
            "| Santana de Parnaíba|  546|\n",
            "|       Florianópolis|  399|\n",
            "|             Niterói|  381|\n",
            "|         Santo André|  375|\n",
            "| São José dos Campos|  345|\n",
            "|São Bernardo do C...|  316|\n",
            "|            Valinhos|  302|\n",
            "|            Sorocaba|  300|\n",
            "|             Jundiaí|  296|\n",
            "|           Fortaleza|  296|\n",
            "|            Londrina|  280|\n",
            "|             Vinhedo|  260|\n",
            "+--------------------+-----+\n",
            "only showing top 20 rows\n",
            "\n"
          ]
        }
      ]
    },
    {
      "cell_type": "code",
      "metadata": {
        "id": "eHTXVz4blrRz",
        "colab": {
          "base_uri": "https://localhost:8080/"
        },
        "outputId": "7bbf4c7c-a8ff-4ee5-a4c3-a390582582a2"
      },
      "source": [
        "#Exibindo \"studios\" no estado de São Paulo\n",
        "df1.where((F.col(\"tipo_imovel\") == \"studio\") & (F.col(\"estado_imovel\") == \"São Paulo\")).show()"
      ],
      "execution_count": 35,
      "outputs": [
        {
          "output_type": "stream",
          "name": "stdout",
          "text": [
            "+--------------------+-----------+--------------+-------------+-------------+--------------+------------+-------------+---------+--------+----------+-------+----------+-------+------------------+----------------+-------------+-------------+-----------+----------+-----------+------------+-------------+-----+---------------------+----------+-----+\n",
            "|        nome_empresa|tipo_imovel| cidade_imovel|site_pesquisa|estado_imovel|qtde_banheiros|qtde_quartos|tipo_contrato|mobilhado|academia|desocupado|garagem|area_lazer|piscina|plataforma_digital|preco_condominio|preco_periodo|valor_aluguel|valor_venda|iptu_anual|qtde_suites|quadra_tenis|area_total_m2|andar|residencial_comercial|      data|   id|\n",
            "+--------------------+-----------+--------------+-------------+-------------+--------------+------------+-------------+---------+--------+----------+-------+----------+-------+------------------+----------------+-------------+-------------+-----------+----------+-----------+------------+-------------+-----+---------------------+----------+-----+\n",
            "|       Igor Ferreira|     studio|     São Paulo|       GOOGLE|    São Paulo|             1|           1|      Aluguel|      Sim|     Sim|       Não|      1|       Não|    Sim|          GRUPOZAP|            null|          mês|          2.4|       null|      null|          1|         Não|         null|    0|          Residencial|2020-06-08|29909|\n",
            "|Marco Rodrigo Pen...|     studio|     São Paulo|       GOOGLE|    São Paulo|             1|           1|      Aluguel|      Sim|     Sim|       Não|      1|       Não|    Sim|          GRUPOZAP|             350|          mês|          2.2|       null|        50|          0|         Não|         null|    0|          Residencial|2020-05-30|29910|\n",
            "|    LIVIA MARRACCINI|     studio|     São Paulo|       GOOGLE|    São Paulo|             1|           1|      Aluguel|      Sim|     Sim|       Não|      1|       Não|    Sim|          GRUPOZAP|             854|          mês|          3.1|       null|       220|          0|         Não|         null|    4|          Residencial|2020-06-29|29911|\n",
            "|Uniloc serviços e...|     studio|     São Paulo|       GOOGLE|    São Paulo|             1|           1|      Aluguel|      Sim|     Sim|       Não|      1|       Não|    Sim|          GRUPOZAP|            null|          mês|          3.4|       null|      null|          0|         Não|         null|    8|          Residencial|2020-07-21|29912|\n",
            "|        Luis Dornela|     studio|Ribeirão Preto|       GOOGLE|    São Paulo|             1|           1|      Aluguel|      Sim|     Sim|       Não|      1|       Não|    Sim|          GRUPOZAP|             290|          mês|          1.4|       null|       296|          0|         Não|         null|    0|          Residencial|2020-02-08|29913|\n",
            "|Mutri Soluções Im...|     studio|     São Paulo|       GOOGLE|    São Paulo|             1|           1|      Aluguel|      Não|     Sim|       Não|      1|       Não|    Sim|               ZAP|             410|          mês|          2.9|       null|       227|          1|         Não|         null|   10|          Residencial|2019-09-19|29915|\n",
            "|      W2 CONSTRUTORA|     studio|     São Paulo|       GOOGLE|    São Paulo|             1|           1|      Aluguel|      Não|     Não|       Não|      0|       Não|    Não|          GRUPOZAP|              90|          mês|        550.0|       null|       100|          1|         Não|           16|    5|          Residencial|2020-07-20|29918|\n",
            "|Jose Augusto Nasc...|     studio|      Campinas|       GOOGLE|    São Paulo|             1|           1|      Aluguel|      Sim|     Não|       Não|      1|       Não|    Não|          GRUPOZAP|            null|          mês|         2.26|       null|      null|          1|         Não|         null|   12|          Residencial|2020-07-22|29920|\n",
            "|     luciana pereira|     studio|     São Paulo|       GOOGLE|    São Paulo|             1|           1|      Aluguel|      Sim|     Sim|       Não|      1|       Não|    Sim|          GRUPOZAP|             556|          mês|          3.5|       null|       220|          0|         Não|         null|    0|          Residencial|2020-07-19|29921|\n",
            "|                Mora|     studio|     São Paulo|       GOOGLE|    São Paulo|             1|           1|      Aluguel|      Sim|     Não|       Não|      0|       Não|    Não|          GRUPOZAP|             500|          mês|          1.9|       null|       100|          1|         Não|           25|    6|          Residencial|2020-07-27|29923|\n",
            "|MENDES & BRAGA NE...|     studio|     Guarulhos|       GOOGLE|    São Paulo|             0|           1|      Aluguel|      Não|     Não|       Não|      1|       Não|    Não|               ZAP|             500|          mês|         1.75|       null|      null|          0|         Não|           36|    0|          Residencial|2018-09-11|29925|\n",
            "|Denise Cardoso de...|     studio|     São Paulo|       GOOGLE|    São Paulo|             1|           1|      Aluguel|      Sim|     Sim|       Não|      1|       Não|    Sim|          GRUPOZAP|             430|          mês|          2.0|       null|      null|          0|         Não|         null|    0|          Residencial|2020-06-18|29929|\n",
            "|   Andressa Nicolich|     studio|     São Paulo|       GOOGLE|    São Paulo|             1|           1|      Aluguel|      Sim|     Não|       Não|      0|       Não|    Não|          GRUPOZAP|             347|          mês|          1.8|       null|      null|          0|         Não|           32|    0|          Residencial|2020-06-08|29930|\n",
            "|ESCODELAR INTELIG...|     studio|     Guarulhos|       GOOGLE|    São Paulo|             0|           0|      Aluguel|      Não|     Não|       Não|      1|       Não|    Não|               ZAP|             470|          mês|         1.95|    370.000|        80|          0|         Não|           39|    4|          Residencial|2020-05-30|29932|\n",
            "|LUIS HENRIQUE DE ...|     studio|     São Paulo|       GOOGLE|    São Paulo|             1|           1|      Aluguel|      Sim|     Não|       Não|      0|       Não|    Não|          GRUPOZAP|             450|          mês|          1.2|       null|       350|          1|         Não|           35|    0|          Residencial|2020-04-27|29933|\n",
            "|  André Willaim Cogo|     studio|      Campinas|       GOOGLE|    São Paulo|             1|           1|      Aluguel|      Não|     Não|       Não|      0|       Não|    Não|          GRUPOZAP|             325|          mês|        500.0|       null|       188|          0|         Não|         null|    0|          Residencial|2020-06-24|29934|\n",
            "|    Thiago Francisco|     studio|     São Paulo|       GOOGLE|    São Paulo|             1|           1|      Aluguel|      Sim|     Sim|       Não|      0|       Não|    Não|          GRUPOZAP|             320|          mês|          1.4|       null|      null|          0|         Não|           28|    0|          Residencial|2020-07-04|29936|\n",
            "|     Milena carvalho|     studio|     São Paulo|       GOOGLE|    São Paulo|             1|           1|      Aluguel|      Não|     Sim|       Não|      0|       Não|    Não|          GRUPOZAP|             350|          mês|         1.95|       null|        99|          0|         Não|         6181|   16|          Residencial|2017-09-11|29945|\n",
            "|                Mora|     studio|     São Paulo|       GOOGLE|    São Paulo|             1|           1|      Aluguel|      Sim|     Não|       Não|      0|       Não|    Não|          GRUPOZAP|             500|          mês|          1.9|       null|       100|          1|         Não|         null|    6|          Residencial|2020-06-03|29949|\n",
            "|     SPECIAL IMÓVEIS|     studio|     São Paulo|       GOOGLE|    São Paulo|             1|           1|      Aluguel|      Não|     Não|       Não|      0|       Não|    Não|          GRUPOZAP|             107|          mês|        880.0|       null|        33|          0|         Não|         null|    0|          Residencial|2020-07-17|29952|\n",
            "+--------------------+-----------+--------------+-------------+-------------+--------------+------------+-------------+---------+--------+----------+-------+----------+-------+------------------+----------------+-------------+-------------+-----------+----------+-----------+------------+-------------+-----+---------------------+----------+-----+\n",
            "only showing top 20 rows\n",
            "\n"
          ]
        }
      ]
    },
    {
      "cell_type": "code",
      "metadata": {
        "id": "ak-gMzoYlrT3",
        "colab": {
          "base_uri": "https://localhost:8080/"
        },
        "outputId": "6108356c-2152-4211-86df-00e3a7e4768d"
      },
      "source": [
        "#Imóveis mobilhados no estado de Minas Gerais com 2 ou mais quartos\n",
        "\n",
        "filtroMG = F.col(\"estado_imovel\") == \"Minas Gerais\"\n",
        "filtroMobS = F.col(\"mobilhado\") == \"Sim\"\n",
        "filtro2q = F.col(\"qtde_quartos\") >= 2\n",
        "\n",
        "df1.select(F.col(\"tipo_imovel\"),\n",
        "          F.col(\"qtde_quartos\"),\n",
        "          F.col(\"cidade_imovel\"),\n",
        "          F.col(\"mobilhado\")).filter(filtroMG & filtroMobS & filtro2q).show()"
      ],
      "execution_count": 36,
      "outputs": [
        {
          "output_type": "stream",
          "name": "stdout",
          "text": [
            "+------------------+------------+--------------+---------+\n",
            "|       tipo_imovel|qtde_quartos| cidade_imovel|mobilhado|\n",
            "+------------------+------------+--------------+---------+\n",
            "|       apartamento|           2|     Nova Lima|      Sim|\n",
            "|       apartamento|           3|Belo Horizonte|      Sim|\n",
            "|       apartamento|           2|Belo Horizonte|      Sim|\n",
            "|       apartamento|           5|        Viçosa|      Sim|\n",
            "|       apartamento|           2|Belo Horizonte|      Sim|\n",
            "|       apartamento|           3|Belo Horizonte|      Sim|\n",
            "|       apartamento|           3|Belo Horizonte|      Sim|\n",
            "|       apartamento|           2|Belo Horizonte|      Sim|\n",
            "|       apartamento|           3|     Nova Lima|      Sim|\n",
            "|       apartamento|           3|Belo Horizonte|      Sim|\n",
            "|       apartamento|           3|     Nova Lima|      Sim|\n",
            "|       apartamento|           3|Belo Horizonte|      Sim|\n",
            "|       apartamento|           3|       Uberaba|      Sim|\n",
            "|       apartamento|           3|Belo Horizonte|      Sim|\n",
            "|       apartamento|           3|Belo Horizonte|      Sim|\n",
            "|       apartamento|           3|Belo Horizonte|      Sim|\n",
            "|       apartamento|           3|       Uberaba|      Sim|\n",
            "|casa-de-condominio|           4|     Nova Lima|      Sim|\n",
            "|casa-de-condominio|           4|     Nova Lima|      Sim|\n",
            "|              casa|           2|Belo Horizonte|      Sim|\n",
            "+------------------+------------+--------------+---------+\n",
            "only showing top 20 rows\n",
            "\n"
          ]
        }
      ]
    },
    {
      "cell_type": "code",
      "metadata": {
        "id": "uSR47wRmlrXl",
        "colab": {
          "base_uri": "https://localhost:8080/"
        },
        "outputId": "2e137d72-9a1f-45cb-b367-d2aa19882db0"
      },
      "source": [
        "#Quantidade de imóveis \"encontrados\" por cada site de pesquisa\n",
        "df1.groupBy(F.col(\"site_pesquisa\")).count().sort(\"count\", ascending=False).show()"
      ],
      "execution_count": 37,
      "outputs": [
        {
          "output_type": "stream",
          "name": "stdout",
          "text": [
            "+-------------------+-----+\n",
            "|      site_pesquisa|count|\n",
            "+-------------------+-----+\n",
            "|             GOOGLE|35252|\n",
            "|           GRUPOZAP|  333|\n",
            "|      Não Informado|  138|\n",
            "|          PUBLISHER|   32|\n",
            "|GeoPointSource_NONE|   17|\n",
            "+-------------------+-----+\n",
            "\n"
          ]
        }
      ]
    },
    {
      "cell_type": "code",
      "metadata": {
        "id": "EO3yCHJvlrVo",
        "colab": {
          "base_uri": "https://localhost:8080/"
        },
        "outputId": "b0a291fb-945f-4ba4-e532-9fbfc34624e2"
      },
      "source": [
        "#Valor máximo de aluguel em cada tipo de imóvel\n",
        "(df1.groupby(F.col(\"tipo_imovel\")).agg(\n",
        "    F.max(\"valor_aluguel\").alias(\"valor_max_aluguel\"),\n",
        "    F.max(\"valor_venda\").alias(\"Valor_max_venda\")).show())"
      ],
      "execution_count": 38,
      "outputs": [
        {
          "output_type": "stream",
          "name": "stdout",
          "text": [
            "+------------------+-----------------+---------------+\n",
            "|       tipo_imovel|valor_max_aluguel|Valor_max_venda|\n",
            "+------------------+-----------------+---------------+\n",
            "|       apartamento|            999.0|        990.000|\n",
            "|              casa|            995.0|        995.000|\n",
            "|casa-de-condominio|            990.0|        999.000|\n",
            "|      casa-de-vila|            980.0|      9.800.000|\n",
            "|         cobertura|            999.0|        999.900|\n",
            "|              flat|            995.0|        996.400|\n",
            "|         quitinete|            999.0|         98.000|\n",
            "|            studio|            950.0|        640.000|\n",
            "+------------------+-----------------+---------------+\n",
            "\n"
          ]
        }
      ]
    },
    {
      "cell_type": "code",
      "metadata": {
        "id": "u9EP0eCIyunM",
        "colab": {
          "base_uri": "https://localhost:8080/"
        },
        "outputId": "e0c7d8df-5351-40ce-e986-2a5d127deadd"
      },
      "source": [
        "#Quantidade media de quartos por tipo de imovel\n",
        "(df1.groupBy(F.col(\"tipo_imovel\")).agg(F.round(F.mean(\"qtde_quartos\"), 2).alias(\"media_qtde_quartos\"))).show()"
      ],
      "execution_count": 39,
      "outputs": [
        {
          "output_type": "stream",
          "name": "stdout",
          "text": [
            "+------------------+------------------+\n",
            "|       tipo_imovel|media_qtde_quartos|\n",
            "+------------------+------------------+\n",
            "|      casa-de-vila|              2.24|\n",
            "|            studio|              0.92|\n",
            "|       apartamento|              2.11|\n",
            "|              flat|              1.12|\n",
            "|casa-de-condominio|              3.45|\n",
            "|         quitinete|               0.9|\n",
            "|              casa|              2.75|\n",
            "|         cobertura|              3.21|\n",
            "+------------------+------------------+\n",
            "\n"
          ]
        }
      ]
    },
    {
      "cell_type": "code",
      "metadata": {
        "id": "giQMmRhb-XgQ",
        "colab": {
          "base_uri": "https://localhost:8080/"
        },
        "outputId": "0d0981bd-7411-4f13-a55f-3850a0de1e3c"
      },
      "source": [
        "#Filtro por cidades iniciadaas com J\n",
        "df1.filter(\"cidade_imovel like 'J%' \").show()"
      ],
      "execution_count": 40,
      "outputs": [
        {
          "output_type": "stream",
          "name": "stdout",
          "text": [
            "+--------------------+-----------+-------------+-------------+--------------+--------------+------------+-------------+---------+--------+----------+-------+----------+-------+------------------+----------------+-------------+-------------+-----------+----------+-----------+------------+-------------+-----+---------------------+----------+---+\n",
            "|        nome_empresa|tipo_imovel|cidade_imovel|site_pesquisa| estado_imovel|qtde_banheiros|qtde_quartos|tipo_contrato|mobilhado|academia|desocupado|garagem|area_lazer|piscina|plataforma_digital|preco_condominio|preco_periodo|valor_aluguel|valor_venda|iptu_anual|qtde_suites|quadra_tenis|area_total_m2|andar|residencial_comercial|      data| id|\n",
            "+--------------------+-----------+-------------+-------------+--------------+--------------+------------+-------------+---------+--------+----------+-------+----------+-------+------------------+----------------+-------------+-------------+-----------+----------+-----------+------------+-------------+-----+---------------------+----------+---+\n",
            "|LELLO IMÓVEIS JUN...|apartamento|      Jundiaí|       GOOGLE|     São Paulo|             2|           3|      Aluguel|      Não|     Não|       Não|      2|       Não|    Não|               ZAP|             800|          mês|         1.65|       null|       251|          1|         Não|          168|    0|          Residencial|2020-07-25| 10|\n",
            "|SÓLIDA IMÓVEIS JU...|apartamento|      Jundiaí|       GOOGLE|     São Paulo|             4|           3|      Aluguel|      Não|     Não|       Não|      3|       Não|    Sim|               ZAP|           1.100|          mês|         4.52|  1.680.000|       320|          3|         Não|          216|    0|          Residencial|2020-07-02| 97|\n",
            "|  Remax City Jundiaí|apartamento|      Jundiaí|       GOOGLE|     São Paulo|             2|           2|      Aluguel|      Não|     Não|       Não|      2|       Não|    Não|               ZAP|             493|          mês|          2.0|       null|       800|          1|         Não|           78|    0|          Residencial|2020-07-25|137|\n",
            "|RIBEIRO E ARRABAL...|apartamento| Juiz de Fora|       GOOGLE|  Minas Gerais|             2|           3|      Aluguel|      Não|     Não|       Não|      1|       Não|    Não|               ZAP|             393|          mês|          1.2|       null|       158|          1|         Não|            1|    0|          Residencial|2020-07-10|189|\n",
            "|ANAGÊ IMÓVEIS EIR...|apartamento|    Joinville|       GOOGLE|Santa Catarina|             2|           2|      Aluguel|      Não|     Não|       Não|      1|       Não|    Não|          GRUPOZAP|             190|          mês|        950.0|       null|        54|          1|         Não|           89|    0|          Residencial|2020-07-29|204|\n",
            "|Execut Consultori...|apartamento|  João Pessoa|       GOOGLE|       Paraíba|             1|           2|      Aluguel|      Não|     Sim|       Não|      2|       Não|    Sim|          GRUPOZAP|             423|          mês|          2.5|       null|      null|          1|         Não|           75|    0|          Residencial|2020-07-29|219|\n",
            "|   IMOBILIARIA BORBA|apartamento|    Joinville|       GOOGLE|Santa Catarina|             2|           2|      Aluguel|      Não|     Não|       Não|      2|       Não|    Não|          GRUPOZAP|            null|          mês|          1.1|       null|      null|          1|         Não|           92|    0|          Residencial|2020-06-12|222|\n",
            "|RIBEIRO E ARRABAL...|apartamento| Juiz de Fora|       GOOGLE|  Minas Gerais|             2|           2|      Aluguel|      Não|     Não|       Não|      2|       Sim|    Não|               ZAP|             275|          mês|          1.5|       null|       153|          1|         Não|          116|    0|          Residencial|2020-07-09|389|\n",
            "|  Remax City Jundiaí|apartamento|      Jundiaí|       GOOGLE|     São Paulo|             1|           2|      Aluguel|      Não|     Não|       Não|      1|       Não|    Não|               ZAP|             320|          mês|        770.0|       null|        50|          0|         Não|           54|    0|          Residencial|2020-07-25|390|\n",
            "|      Destak Imóveis|apartamento|      Jundiaí|       GOOGLE|     São Paulo|             2|           3|      Aluguel|      Não|     Não|       Não|      2|       Não|    Não|               ZAP|             550|          mês|          1.6|       null|        93|          1|         Não|           84|    0|          Residencial|2020-07-09|450|\n",
            "|  Remax City Jundiaí|apartamento|      Jundiaí|       GOOGLE|     São Paulo|             2|           3|      Aluguel|      Não|     Não|       Não|      2|       Não|    Não|               ZAP|             500|          mês|          2.5|       null|        80|          1|         Não|           94|    0|          Residencial|2020-07-14|493|\n",
            "|  Remax City Jundiaí|apartamento|      Jundiaí|       GOOGLE|     São Paulo|             1|           2|      Aluguel|      Não|     Não|       Não|      1|       Não|    Não|               ZAP|             350|          mês|          1.4|       null|        72|          0|         Não|           54|    0|          Residencial|2020-07-03|583|\n",
            "|Barão Imóveis  de...|apartamento|      Jundiaí|       GOOGLE|     São Paulo|             2|           3|      Aluguel|      Não|     Não|       Não|      2|       Não|    Não|               ZAP|             474|          mês|          3.2|       null|       174|          1|         Não|          108|    0|          Residencial|2020-07-23|591|\n",
            "|   IMOBILIARIA BORBA|apartamento|    Joinville|       GOOGLE|Santa Catarina|             1|           2|      Aluguel|      Não|     Não|       Não|      1|       Não|    Não|          GRUPOZAP|            null|          mês|         1.15|       null|      null|          0|         Não|           55|    0|          Residencial|2020-06-12|614|\n",
            "|RIBEIRO E ARRABAL...|apartamento| Juiz de Fora|       GOOGLE|  Minas Gerais|             1|           3|      Aluguel|      Não|     Não|       Não|      2|       Não|    Não|               ZAP|             298|          mês|          1.4|       null|       127|          1|         Não|           95|    0|          Residencial|2020-06-28|630|\n",
            "|  Remax City Jundiaí|apartamento|      Jundiaí|       GOOGLE|     São Paulo|             2|           3|      Aluguel|      Não|     Não|       Não|      2|       Não|    Não|               ZAP|             535|          mês|        1.944|       null|       568|          1|         Não|          100|    0|          Residencial|2020-06-23|637|\n",
            "|   IMOBILIARIA BORBA|apartamento|    Joinville|       GOOGLE|Santa Catarina|             1|           2|      Aluguel|      Não|     Não|       Não|      1|       Não|    Não|          GRUPOZAP|            null|          mês|        700.0|       null|      null|          0|         Não|           60|    0|          Residencial|2020-06-12|657|\n",
            "|      Destak Imóveis|apartamento|      Jundiaí|       GOOGLE|     São Paulo|             2|           3|      Aluguel|      Não|     Não|       Não|      2|       Não|    Não|               ZAP|             420|          mês|          2.3|       null|        80|          1|         Não|           90|    0|          Residencial|2020-07-09|664|\n",
            "|LELLO IMÓVEIS JUN...|apartamento|      Jundiaí|       GOOGLE|     São Paulo|             1|           2|      Aluguel|      Não|     Não|       Não|      1|       Não|    Não|               ZAP|             510|          mês|          1.6|       null|        90|          0|         Não|           65|    0|          Residencial|2020-07-25|686|\n",
            "|LELLO IMÓVEIS JUN...|apartamento|      Jundiaí|       GOOGLE|     São Paulo|             1|           2|      Aluguel|      Não|     Não|       Não|      1|       Não|    Não|               ZAP|             318|          mês|          1.1|       null|       122|          0|         Não|           70|    0|          Residencial|2020-06-23|689|\n",
            "+--------------------+-----------+-------------+-------------+--------------+--------------+------------+-------------+---------+--------+----------+-------+----------+-------+------------------+----------------+-------------+-------------+-----------+----------+-----------+------------+-------------+-----+---------------------+----------+---+\n",
            "only showing top 20 rows\n",
            "\n"
          ]
        }
      ]
    },
    {
      "cell_type": "code",
      "metadata": {
        "id": "vm61eYJit4cG",
        "colab": {
          "base_uri": "https://localhost:8080/"
        },
        "outputId": "221383f8-437c-4f91-fea1-fb5175425450"
      },
      "source": [
        "w0 = Window.partitionBy(F.col(\"nome_empresa\")).orderBy(\"preco_condominio\")\n",
        "(df1.withColumn(\"row_number\", F.row_number().over(w0)).select(F.col(\"nome_empresa\"),\n",
        "                                                              F.col(\"tipo_imovel\"),\n",
        "                                                              F.col(\"cidade_imovel\"), \n",
        "                                                              F.col(\"residencial_comercial\"),\n",
        "                                                              F.col(\"preco_condominio\"))).show()"
      ],
      "execution_count": 41,
      "outputs": [
        {
          "output_type": "stream",
          "name": "stdout",
          "text": [
            "+--------------------+-----------+--------------------+---------------------+----------------+\n",
            "|        nome_empresa|tipo_imovel|       cidade_imovel|residencial_comercial|preco_condominio|\n",
            "+--------------------+-----------+--------------------+---------------------+----------------+\n",
            "|ADI Assessoria e ...|apartamento|           São Paulo|          Residencial|              50|\n",
            "|   San Remos Imóveis|apartamento|       Florianópolis|          Residencial|           1.961|\n",
            "|Família Bacellar ...|apartamento|      Rio de Janeiro|          Residencial|             835|\n",
            "|Next Soluções Imo...|apartamento|            Campinas|          Residencial|         134.437|\n",
            "|QUINTO ANDAR SERV...|apartamento|           São Paulo|          Residencial|             536|\n",
            "|FLAVIA DANIELLE P...|apartamento|      Rio de Janeiro|          Residencial|             809|\n",
            "|QUINTO ANDAR SERV...|apartamento|           São Paulo|          Residencial|             880|\n",
            "|LELLO IMÓVEIS TAT...|apartamento|           São Paulo|          Residencial|             800|\n",
            "|         NBI IMOVEIS|apartamento|São José do Rio P...|          Residencial|             450|\n",
            "|PORTAL ADMINISTRA...|apartamento|        Porto Alegre|          Residencial|             260|\n",
            "|LELLO IMÓVEIS JUN...|apartamento|             Jundiaí|          Residencial|             800|\n",
            "|QUINTO ANDAR SERV...|apartamento|           São Paulo|          Residencial|             810|\n",
            "|QUINTO ANDAR SERV...|apartamento|      Belo Horizonte|          Residencial|             850|\n",
            "|Predial Lins Prem...|apartamento|           São Paulo|          Residencial|             450|\n",
            "|    Fernanda Freitas|apartamento|      Rio de Janeiro|          Residencial|           1.250|\n",
            "|  IMIGRANTES IMOVEIS|apartamento|        Praia Grande|          Residencial|            null|\n",
            "|QUINTO ANDAR SERV...|apartamento|           São Paulo|          Residencial|           1.085|\n",
            "|    Potência Imóveis|apartamento|             Barueri|          Residencial|             690|\n",
            "|                 Ar7|apartamento|        Praia Grande|          Residencial|            null|\n",
            "|AG NEGÓCIOS IMOBI...|apartamento|      Belo Horizonte|          Residencial|             550|\n",
            "+--------------------+-----------+--------------------+---------------------+----------------+\n",
            "only showing top 20 rows\n",
            "\n"
          ]
        }
      ]
    },
    {
      "cell_type": "code",
      "metadata": {
        "id": "n5swYyX7wlot"
      },
      "source": [
        "client = storage.Client()\n",
        "bucket = client.get_bucket('projeto-final-grupo09')\n",
        "     \n",
        "bucket.blob('saida_dados/Projeto_Final_ZAP_Pyspark.csv').upload_from_string(df1.toPandas().to_csv(index=False), 'text/csv')"
      ],
      "execution_count": 42,
      "outputs": []
    }
  ]
}